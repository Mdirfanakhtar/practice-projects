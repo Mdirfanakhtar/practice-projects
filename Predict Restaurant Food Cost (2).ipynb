{
 "cells": [
  {
   "cell_type": "markdown",
   "metadata": {},
   "source": [
    "# Restaurant Food Cost"
   ]
  },
  {
   "cell_type": "code",
   "execution_count": null,
   "metadata": {},
   "outputs": [],
   "source": []
  },
  {
   "cell_type": "markdown",
   "metadata": {},
   "source": [
    "# Import libraries"
   ]
  },
  {
   "cell_type": "code",
   "execution_count": 94,
   "metadata": {},
   "outputs": [],
   "source": [
    "import re\n",
    "import pandas as pd\n",
    "import numpy as np\n",
    "import matplotlib.pyplot as plt\n",
    "\n",
    "\n",
    "import warnings\n",
    "warnings.filterwarnings('ignore')"
   ]
  },
  {
   "cell_type": "markdown",
   "metadata": {},
   "source": [
    "### Import datasets"
   ]
  },
  {
   "cell_type": "code",
   "execution_count": 95,
   "metadata": {},
   "outputs": [],
   "source": [
    "train = pd.read_excel('Data_Test.xlsx')\n",
    "test = pd.read_excel('Data_Train.xlsx')"
   ]
  },
  {
   "cell_type": "code",
   "execution_count": 96,
   "metadata": {},
   "outputs": [
    {
     "data": {
      "text/plain": [
       "((4231, 8), (12690, 9))"
      ]
     },
     "execution_count": 96,
     "metadata": {},
     "output_type": "execute_result"
    }
   ],
   "source": [
    "train.shape, test.shape"
   ]
  },
  {
   "cell_type": "markdown",
   "metadata": {},
   "source": [
    "### Data exploration"
   ]
  },
  {
   "cell_type": "code",
   "execution_count": 97,
   "metadata": {},
   "outputs": [
    {
     "data": {
      "text/plain": [
       "(1, 25)"
      ]
     },
     "execution_count": 97,
     "metadata": {},
     "output_type": "execute_result"
    }
   ],
   "source": [
    "train.duplicated().sum(), test.duplicated().sum()"
   ]
  },
  {
   "cell_type": "code",
   "execution_count": 98,
   "metadata": {},
   "outputs": [],
   "source": [
    "train.drop_duplicates(keep='first', inplace=True)"
   ]
  },
  {
   "cell_type": "code",
   "execution_count": 99,
   "metadata": {},
   "outputs": [],
   "source": [
    "train.reset_index(inplace=True)"
   ]
  },
  {
   "cell_type": "code",
   "execution_count": 100,
   "metadata": {},
   "outputs": [],
   "source": [
    "test.drop_duplicates(keep='first', inplace=True)"
   ]
  },
  {
   "cell_type": "code",
   "execution_count": 101,
   "metadata": {},
   "outputs": [],
   "source": [
    "test.reset_index(inplace=True)"
   ]
  },
  {
   "cell_type": "code",
   "execution_count": 102,
   "metadata": {},
   "outputs": [
    {
     "data": {
      "text/html": [
       "<div>\n",
       "<style scoped>\n",
       "    .dataframe tbody tr th:only-of-type {\n",
       "        vertical-align: middle;\n",
       "    }\n",
       "\n",
       "    .dataframe tbody tr th {\n",
       "        vertical-align: top;\n",
       "    }\n",
       "\n",
       "    .dataframe thead th {\n",
       "        text-align: right;\n",
       "    }\n",
       "</style>\n",
       "<table border=\"1\" class=\"dataframe\">\n",
       "  <thead>\n",
       "    <tr style=\"text-align: right;\">\n",
       "      <th></th>\n",
       "      <th>index</th>\n",
       "      <th>TITLE</th>\n",
       "      <th>RESTAURANT_ID</th>\n",
       "      <th>CUISINES</th>\n",
       "      <th>TIME</th>\n",
       "      <th>CITY</th>\n",
       "      <th>LOCALITY</th>\n",
       "      <th>RATING</th>\n",
       "      <th>VOTES</th>\n",
       "    </tr>\n",
       "  </thead>\n",
       "  <tbody>\n",
       "    <tr>\n",
       "      <th>0</th>\n",
       "      <td>0</td>\n",
       "      <td>CASUAL DINING</td>\n",
       "      <td>4085</td>\n",
       "      <td>North Indian, Chinese, Mughlai, Kebab</td>\n",
       "      <td>12noon – 12midnight (Mon-Sun)</td>\n",
       "      <td>Noida</td>\n",
       "      <td>Sector 18</td>\n",
       "      <td>4.3</td>\n",
       "      <td>564 votes</td>\n",
       "    </tr>\n",
       "    <tr>\n",
       "      <th>1</th>\n",
       "      <td>1</td>\n",
       "      <td>QUICK BITES</td>\n",
       "      <td>12680</td>\n",
       "      <td>South Indian, Fast Food, Pizza, North Indian</td>\n",
       "      <td>7am – 12:30AM (Mon-Sun)</td>\n",
       "      <td>Mumbai</td>\n",
       "      <td>Grant Road</td>\n",
       "      <td>4.2</td>\n",
       "      <td>61 votes</td>\n",
       "    </tr>\n",
       "    <tr>\n",
       "      <th>2</th>\n",
       "      <td>2</td>\n",
       "      <td>CASUAL DINING</td>\n",
       "      <td>1411</td>\n",
       "      <td>North Indian, Seafood, Biryani, Chinese</td>\n",
       "      <td>11am – 11:30pm (Mon-Sun)</td>\n",
       "      <td>Mumbai</td>\n",
       "      <td>Marine Lines</td>\n",
       "      <td>3.8</td>\n",
       "      <td>350 votes</td>\n",
       "    </tr>\n",
       "    <tr>\n",
       "      <th>3</th>\n",
       "      <td>3</td>\n",
       "      <td>None</td>\n",
       "      <td>204</td>\n",
       "      <td>Biryani</td>\n",
       "      <td>9am – 10pm (Mon, Wed, Thu, Fri, Sat, Sun), 10:...</td>\n",
       "      <td>Faridabad</td>\n",
       "      <td>NIT</td>\n",
       "      <td>3.8</td>\n",
       "      <td>1445 votes</td>\n",
       "    </tr>\n",
       "    <tr>\n",
       "      <th>4</th>\n",
       "      <td>4</td>\n",
       "      <td>QUICK BITES</td>\n",
       "      <td>13453</td>\n",
       "      <td>South Indian, Kerala</td>\n",
       "      <td>11am – 10pm (Mon-Sun)</td>\n",
       "      <td>Kochi</td>\n",
       "      <td>Kaloor</td>\n",
       "      <td>3.6</td>\n",
       "      <td>23 votes</td>\n",
       "    </tr>\n",
       "  </tbody>\n",
       "</table>\n",
       "</div>"
      ],
      "text/plain": [
       "   index          TITLE  RESTAURANT_ID  \\\n",
       "0      0  CASUAL DINING           4085   \n",
       "1      1    QUICK BITES          12680   \n",
       "2      2  CASUAL DINING           1411   \n",
       "3      3           None            204   \n",
       "4      4    QUICK BITES          13453   \n",
       "\n",
       "                                       CUISINES  \\\n",
       "0         North Indian, Chinese, Mughlai, Kebab   \n",
       "1  South Indian, Fast Food, Pizza, North Indian   \n",
       "2       North Indian, Seafood, Biryani, Chinese   \n",
       "3                                       Biryani   \n",
       "4                          South Indian, Kerala   \n",
       "\n",
       "                                                TIME       CITY      LOCALITY  \\\n",
       "0                      12noon – 12midnight (Mon-Sun)      Noida     Sector 18   \n",
       "1                            7am – 12:30AM (Mon-Sun)     Mumbai    Grant Road   \n",
       "2                           11am – 11:30pm (Mon-Sun)     Mumbai  Marine Lines   \n",
       "3  9am – 10pm (Mon, Wed, Thu, Fri, Sat, Sun), 10:...  Faridabad           NIT   \n",
       "4                              11am – 10pm (Mon-Sun)      Kochi        Kaloor   \n",
       "\n",
       "  RATING       VOTES  \n",
       "0    4.3   564 votes  \n",
       "1    4.2    61 votes  \n",
       "2    3.8   350 votes  \n",
       "3    3.8  1445 votes  \n",
       "4    3.6    23 votes  "
      ]
     },
     "execution_count": 102,
     "metadata": {},
     "output_type": "execute_result"
    }
   ],
   "source": [
    "train.head()"
   ]
  },
  {
   "cell_type": "code",
   "execution_count": 103,
   "metadata": {},
   "outputs": [
    {
     "name": "stdout",
     "output_type": "stream",
     "text": [
      "<class 'pandas.core.frame.DataFrame'>\n",
      "RangeIndex: 4230 entries, 0 to 4229\n",
      "Data columns (total 9 columns):\n",
      " #   Column         Non-Null Count  Dtype \n",
      "---  ------         --------------  ----- \n",
      " 0   index          4230 non-null   int64 \n",
      " 1   TITLE          4230 non-null   object\n",
      " 2   RESTAURANT_ID  4230 non-null   int64 \n",
      " 3   CUISINES       4230 non-null   object\n",
      " 4   TIME           4230 non-null   object\n",
      " 5   CITY           4195 non-null   object\n",
      " 6   LOCALITY       4200 non-null   object\n",
      " 7   RATING         4228 non-null   object\n",
      " 8   VOTES          3828 non-null   object\n",
      "dtypes: int64(2), object(7)\n",
      "memory usage: 297.5+ KB\n"
     ]
    }
   ],
   "source": [
    "train.info()"
   ]
  },
  {
   "cell_type": "code",
   "execution_count": 104,
   "metadata": {},
   "outputs": [
    {
     "data": {
      "text/plain": [
       "index              0\n",
       "TITLE              0\n",
       "RESTAURANT_ID      0\n",
       "CUISINES           0\n",
       "TIME               0\n",
       "CITY              35\n",
       "LOCALITY          30\n",
       "RATING             2\n",
       "VOTES            402\n",
       "dtype: int64"
      ]
     },
     "execution_count": 104,
     "metadata": {},
     "output_type": "execute_result"
    }
   ],
   "source": [
    "train.isnull().sum()"
   ]
  },
  {
   "cell_type": "code",
   "execution_count": 105,
   "metadata": {},
   "outputs": [
    {
     "name": "stdout",
     "output_type": "stream",
     "text": [
      "Unique values in index 4230\n",
      "Unique values in TITLE 86\n",
      "Unique values in RESTAURANT_ID 4127\n",
      "Unique values in CUISINES 1727\n",
      "Unique values in TIME 1183\n",
      "Unique values in CITY 151\n",
      "Unique values in LOCALITY 834\n",
      "Unique values in RATING 31\n",
      "Unique values in VOTES 1136\n"
     ]
    }
   ],
   "source": [
    "for i in train.columns:\n",
    "    print(\"Unique values in\", i, train[i].nunique())"
   ]
  },
  {
   "cell_type": "markdown",
   "metadata": {},
   "source": [
    "### Data pre-processing"
   ]
  },
  {
   "cell_type": "code",
   "execution_count": 106,
   "metadata": {},
   "outputs": [],
   "source": [
    "# merge train and test\n",
    "df = train.append(test,ignore_index=True)"
   ]
  },
  {
   "cell_type": "code",
   "execution_count": 107,
   "metadata": {},
   "outputs": [],
   "source": [
    "df = df[['TITLE', 'CUISINES', 'TIME', 'CITY', 'LOCALITY', 'RATING', 'VOTES', 'COST']]"
   ]
  },
  {
   "cell_type": "code",
   "execution_count": 108,
   "metadata": {},
   "outputs": [],
   "source": [
    "def extract_closed(time):\n",
    "    a = re.findall('Closed \\(.*?\\)', time)\n",
    "    if a != []:\n",
    "        return a[0]\n",
    "    else:\n",
    "        return 'NA'\n",
    "\n",
    "df['CLOSED'] = df['TIME'].apply(extract_closed)"
   ]
  },
  {
   "cell_type": "code",
   "execution_count": 109,
   "metadata": {},
   "outputs": [],
   "source": [
    "df['TIME'] = df['TIME'].str.replace(r'Closed \\(.*?\\)','')"
   ]
  },
  {
   "cell_type": "code",
   "execution_count": 110,
   "metadata": {},
   "outputs": [],
   "source": [
    "df['TIME'] = df['TIME'].str.replace(r'Closed...','')"
   ]
  },
  {
   "cell_type": "code",
   "execution_count": 111,
   "metadata": {},
   "outputs": [],
   "source": [
    "df['RATING'] = df['RATING'].str.replace('NEW', '1')\n",
    "df['RATING'] = df['RATING'].str.replace('-', '1').astype(float)"
   ]
  },
  {
   "cell_type": "code",
   "execution_count": 112,
   "metadata": {},
   "outputs": [],
   "source": [
    "df['VOTES'] = df['VOTES'].str.replace(' votes', '').astype(float)"
   ]
  },
  {
   "cell_type": "code",
   "execution_count": 113,
   "metadata": {},
   "outputs": [],
   "source": [
    "df['CITY'].fillna('Missing', inplace=True)  \n",
    "df['LOCALITY'].fillna('Missing', inplace=True)  \n",
    "df['RATING'].fillna(3.8, inplace=True)  \n",
    "df['VOTES'].fillna(0.0, inplace=True) "
   ]
  },
  {
   "cell_type": "code",
   "execution_count": 114,
   "metadata": {},
   "outputs": [],
   "source": [
    "df['COST'] = df['COST'].astype(float)"
   ]
  },
  {
   "cell_type": "code",
   "execution_count": 115,
   "metadata": {},
   "outputs": [
    {
     "data": {
      "text/html": [
       "<div>\n",
       "<style scoped>\n",
       "    .dataframe tbody tr th:only-of-type {\n",
       "        vertical-align: middle;\n",
       "    }\n",
       "\n",
       "    .dataframe tbody tr th {\n",
       "        vertical-align: top;\n",
       "    }\n",
       "\n",
       "    .dataframe thead th {\n",
       "        text-align: right;\n",
       "    }\n",
       "</style>\n",
       "<table border=\"1\" class=\"dataframe\">\n",
       "  <thead>\n",
       "    <tr style=\"text-align: right;\">\n",
       "      <th></th>\n",
       "      <th>TITLE</th>\n",
       "      <th>CUISINES</th>\n",
       "      <th>TIME</th>\n",
       "      <th>CITY</th>\n",
       "      <th>LOCALITY</th>\n",
       "      <th>RATING</th>\n",
       "      <th>VOTES</th>\n",
       "      <th>COST</th>\n",
       "      <th>CLOSED</th>\n",
       "    </tr>\n",
       "  </thead>\n",
       "  <tbody>\n",
       "    <tr>\n",
       "      <th>0</th>\n",
       "      <td>CASUAL DINING</td>\n",
       "      <td>North Indian, Chinese, Mughlai, Kebab</td>\n",
       "      <td>12noon – 12midnight (Mon-Sun)</td>\n",
       "      <td>Noida</td>\n",
       "      <td>Sector 18</td>\n",
       "      <td>4.3</td>\n",
       "      <td>564.0</td>\n",
       "      <td>NaN</td>\n",
       "      <td>NA</td>\n",
       "    </tr>\n",
       "    <tr>\n",
       "      <th>1</th>\n",
       "      <td>QUICK BITES</td>\n",
       "      <td>South Indian, Fast Food, Pizza, North Indian</td>\n",
       "      <td>7am – 12:30AM (Mon-Sun)</td>\n",
       "      <td>Mumbai</td>\n",
       "      <td>Grant Road</td>\n",
       "      <td>4.2</td>\n",
       "      <td>61.0</td>\n",
       "      <td>NaN</td>\n",
       "      <td>NA</td>\n",
       "    </tr>\n",
       "  </tbody>\n",
       "</table>\n",
       "</div>"
      ],
      "text/plain": [
       "           TITLE                                      CUISINES  \\\n",
       "0  CASUAL DINING         North Indian, Chinese, Mughlai, Kebab   \n",
       "1    QUICK BITES  South Indian, Fast Food, Pizza, North Indian   \n",
       "\n",
       "                            TIME    CITY    LOCALITY  RATING  VOTES  COST  \\\n",
       "0  12noon – 12midnight (Mon-Sun)   Noida   Sector 18     4.3  564.0   NaN   \n",
       "1        7am – 12:30AM (Mon-Sun)  Mumbai  Grant Road     4.2   61.0   NaN   \n",
       "\n",
       "  CLOSED  \n",
       "0     NA  \n",
       "1     NA  "
      ]
     },
     "execution_count": 115,
     "metadata": {},
     "output_type": "execute_result"
    }
   ],
   "source": [
    "df.head(2)"
   ]
  },
  {
   "cell_type": "code",
   "execution_count": 116,
   "metadata": {},
   "outputs": [
    {
     "data": {
      "text/plain": [
       "(123, 5183)"
      ]
     },
     "execution_count": 116,
     "metadata": {},
     "output_type": "execute_result"
    }
   ],
   "source": [
    "df['TITLE'].nunique(), df['CUISINES'].nunique()"
   ]
  },
  {
   "cell_type": "code",
   "execution_count": 117,
   "metadata": {},
   "outputs": [],
   "source": [
    "calc_mean = df.groupby(['CITY'], axis=0).agg({'RATING': 'mean'}).reset_index()\n",
    "calc_mean.columns = ['CITY','CITY_MEAN_RATING']\n",
    "df = df.merge(calc_mean, on=['CITY'],how='left')\n",
    "\n",
    "calc_mean = df.groupby(['LOCALITY'], axis=0).agg({'RATING': 'mean'}).reset_index()\n",
    "calc_mean.columns = ['LOCALITY','LOCALITY_MEAN_RATING']\n",
    "df = df.merge(calc_mean, on=['LOCALITY'],how='left')"
   ]
  },
  {
   "cell_type": "code",
   "execution_count": 118,
   "metadata": {},
   "outputs": [
    {
     "data": {
      "text/html": [
       "<div>\n",
       "<style scoped>\n",
       "    .dataframe tbody tr th:only-of-type {\n",
       "        vertical-align: middle;\n",
       "    }\n",
       "\n",
       "    .dataframe tbody tr th {\n",
       "        vertical-align: top;\n",
       "    }\n",
       "\n",
       "    .dataframe thead th {\n",
       "        text-align: right;\n",
       "    }\n",
       "</style>\n",
       "<table border=\"1\" class=\"dataframe\">\n",
       "  <thead>\n",
       "    <tr style=\"text-align: right;\">\n",
       "      <th></th>\n",
       "      <th>TITLE</th>\n",
       "      <th>CUISINES</th>\n",
       "      <th>TIME</th>\n",
       "      <th>CITY</th>\n",
       "      <th>LOCALITY</th>\n",
       "      <th>RATING</th>\n",
       "      <th>VOTES</th>\n",
       "      <th>COST</th>\n",
       "      <th>CLOSED</th>\n",
       "      <th>CITY_MEAN_RATING</th>\n",
       "      <th>LOCALITY_MEAN_RATING</th>\n",
       "    </tr>\n",
       "  </thead>\n",
       "  <tbody>\n",
       "    <tr>\n",
       "      <th>0</th>\n",
       "      <td>CASUAL DINING</td>\n",
       "      <td>North Indian, Chinese, Mughlai, Kebab</td>\n",
       "      <td>12noon – 12midnight (Mon-Sun)</td>\n",
       "      <td>Noida</td>\n",
       "      <td>Sector 18</td>\n",
       "      <td>4.3</td>\n",
       "      <td>564.0</td>\n",
       "      <td>NaN</td>\n",
       "      <td>NA</td>\n",
       "      <td>3.634672</td>\n",
       "      <td>3.917949</td>\n",
       "    </tr>\n",
       "    <tr>\n",
       "      <th>1</th>\n",
       "      <td>QUICK BITES</td>\n",
       "      <td>South Indian, Fast Food, Pizza, North Indian</td>\n",
       "      <td>7am – 12:30AM (Mon-Sun)</td>\n",
       "      <td>Mumbai</td>\n",
       "      <td>Grant Road</td>\n",
       "      <td>4.2</td>\n",
       "      <td>61.0</td>\n",
       "      <td>NaN</td>\n",
       "      <td>NA</td>\n",
       "      <td>3.697132</td>\n",
       "      <td>3.723077</td>\n",
       "    </tr>\n",
       "  </tbody>\n",
       "</table>\n",
       "</div>"
      ],
      "text/plain": [
       "           TITLE                                      CUISINES  \\\n",
       "0  CASUAL DINING         North Indian, Chinese, Mughlai, Kebab   \n",
       "1    QUICK BITES  South Indian, Fast Food, Pizza, North Indian   \n",
       "\n",
       "                            TIME    CITY    LOCALITY  RATING  VOTES  COST  \\\n",
       "0  12noon – 12midnight (Mon-Sun)   Noida   Sector 18     4.3  564.0   NaN   \n",
       "1        7am – 12:30AM (Mon-Sun)  Mumbai  Grant Road     4.2   61.0   NaN   \n",
       "\n",
       "  CLOSED  CITY_MEAN_RATING  LOCALITY_MEAN_RATING  \n",
       "0     NA          3.634672              3.917949  \n",
       "1     NA          3.697132              3.723077  "
      ]
     },
     "execution_count": 118,
     "metadata": {},
     "output_type": "execute_result"
    }
   ],
   "source": [
    "df.head(2)"
   ]
  },
  {
   "cell_type": "code",
   "execution_count": 119,
   "metadata": {},
   "outputs": [],
   "source": [
    "from sklearn.feature_extraction.text import TfidfVectorizer\n",
    "\n",
    "\n",
    "tf1 = TfidfVectorizer(ngram_range=(1, 1), lowercase=True)\n",
    "df_title = tf1.fit_transform(df['TITLE'])\n",
    "df_title = pd.DataFrame(data=df_title.toarray(), columns=tf1.get_feature_names_out())\n",
    "\n",
    "tf2 = TfidfVectorizer(ngram_range=(1, 1), lowercase=True)\n",
    "df_cuisines = tf2.fit_transform(df['CUISINES'])\n",
    "df_cuisines = pd.DataFrame(data=df_cuisines.toarray(), columns=tf2.get_feature_names_out())\n",
    "\n",
    "tf3 = TfidfVectorizer(ngram_range=(1, 1), lowercase=True)\n",
    "df_city = tf3.fit_transform(df['CITY'])\n",
    "df_city = pd.DataFrame(data=df_city.toarray(), columns=tf3.get_feature_names_out())\n",
    "\n",
    "tf4 = TfidfVectorizer(ngram_range=(1, 1), lowercase=True)\n",
    "df_locality = tf4.fit_transform(df['LOCALITY'])\n",
    "df_locality = pd.DataFrame(data=df_locality.toarray(), columns=tf4.get_feature_names_out())\n",
    "\n",
    "tf5 = TfidfVectorizer(ngram_range=(1, 1), lowercase=True)\n",
    "df_time = tf5.fit_transform(df['TIME'])\n",
    "df_time = pd.DataFrame(data=df_time.toarray(), columns=tf5.get_feature_names_out())"
   ]
  },
  {
   "cell_type": "code",
   "execution_count": 120,
   "metadata": {},
   "outputs": [
    {
     "data": {
      "text/html": [
       "<div>\n",
       "<style scoped>\n",
       "    .dataframe tbody tr th:only-of-type {\n",
       "        vertical-align: middle;\n",
       "    }\n",
       "\n",
       "    .dataframe tbody tr th {\n",
       "        vertical-align: top;\n",
       "    }\n",
       "\n",
       "    .dataframe thead th {\n",
       "        text-align: right;\n",
       "    }\n",
       "</style>\n",
       "<table border=\"1\" class=\"dataframe\">\n",
       "  <thead>\n",
       "    <tr style=\"text-align: right;\">\n",
       "      <th></th>\n",
       "      <th>TITLE</th>\n",
       "      <th>CUISINES</th>\n",
       "      <th>TIME</th>\n",
       "      <th>CITY</th>\n",
       "      <th>LOCALITY</th>\n",
       "      <th>RATING</th>\n",
       "      <th>VOTES</th>\n",
       "      <th>COST</th>\n",
       "      <th>CLOSED</th>\n",
       "      <th>CITY_MEAN_RATING</th>\n",
       "      <th>LOCALITY_MEAN_RATING</th>\n",
       "    </tr>\n",
       "  </thead>\n",
       "  <tbody>\n",
       "    <tr>\n",
       "      <th>0</th>\n",
       "      <td>CASUAL DINING</td>\n",
       "      <td>North Indian, Chinese, Mughlai, Kebab</td>\n",
       "      <td>12noon – 12midnight (Mon-Sun)</td>\n",
       "      <td>Noida</td>\n",
       "      <td>Sector 18</td>\n",
       "      <td>4.3</td>\n",
       "      <td>564.0</td>\n",
       "      <td>NaN</td>\n",
       "      <td>NA</td>\n",
       "      <td>3.634672</td>\n",
       "      <td>3.917949</td>\n",
       "    </tr>\n",
       "    <tr>\n",
       "      <th>1</th>\n",
       "      <td>QUICK BITES</td>\n",
       "      <td>South Indian, Fast Food, Pizza, North Indian</td>\n",
       "      <td>7am – 12:30AM (Mon-Sun)</td>\n",
       "      <td>Mumbai</td>\n",
       "      <td>Grant Road</td>\n",
       "      <td>4.2</td>\n",
       "      <td>61.0</td>\n",
       "      <td>NaN</td>\n",
       "      <td>NA</td>\n",
       "      <td>3.697132</td>\n",
       "      <td>3.723077</td>\n",
       "    </tr>\n",
       "  </tbody>\n",
       "</table>\n",
       "</div>"
      ],
      "text/plain": [
       "           TITLE                                      CUISINES  \\\n",
       "0  CASUAL DINING         North Indian, Chinese, Mughlai, Kebab   \n",
       "1    QUICK BITES  South Indian, Fast Food, Pizza, North Indian   \n",
       "\n",
       "                            TIME    CITY    LOCALITY  RATING  VOTES  COST  \\\n",
       "0  12noon – 12midnight (Mon-Sun)   Noida   Sector 18     4.3  564.0   NaN   \n",
       "1        7am – 12:30AM (Mon-Sun)  Mumbai  Grant Road     4.2   61.0   NaN   \n",
       "\n",
       "  CLOSED  CITY_MEAN_RATING  LOCALITY_MEAN_RATING  \n",
       "0     NA          3.634672              3.917949  \n",
       "1     NA          3.697132              3.723077  "
      ]
     },
     "execution_count": 120,
     "metadata": {},
     "output_type": "execute_result"
    }
   ],
   "source": [
    "df.head(2)"
   ]
  },
  {
   "cell_type": "code",
   "execution_count": 121,
   "metadata": {},
   "outputs": [],
   "source": [
    "df = pd.concat([df, df_title, df_cuisines, df_city, df_locality, df_time], axis=1) \n",
    "df.drop(['TITLE', 'CUISINES', 'CITY', 'LOCALITY', 'TIME'], axis=1, inplace=True)"
   ]
  },
  {
   "cell_type": "code",
   "execution_count": 122,
   "metadata": {},
   "outputs": [],
   "source": [
    "df = pd.get_dummies(df, columns=['CLOSED'], drop_first=True)"
   ]
  },
  {
   "cell_type": "code",
   "execution_count": 123,
   "metadata": {},
   "outputs": [
    {
     "data": {
      "text/plain": [
       "(16895, 2284)"
      ]
     },
     "execution_count": 123,
     "metadata": {},
     "output_type": "execute_result"
    }
   ],
   "source": [
    "df.shape"
   ]
  },
  {
   "cell_type": "code",
   "execution_count": 124,
   "metadata": {},
   "outputs": [],
   "source": [
    "train_df = df[df['COST'].isnull()!=True]\n",
    "test_df = df[df['COST'].isnull()==True]\n",
    "test_df.drop('COST', axis=1, inplace=True)"
   ]
  },
  {
   "cell_type": "code",
   "execution_count": 125,
   "metadata": {},
   "outputs": [
    {
     "data": {
      "text/plain": [
       "((4230, 2283), (12665, 2284))"
      ]
     },
     "execution_count": 125,
     "metadata": {},
     "output_type": "execute_result"
    }
   ],
   "source": [
    "test_df.shape, train_df.shape"
   ]
  },
  {
   "cell_type": "code",
   "execution_count": 126,
   "metadata": {},
   "outputs": [],
   "source": [
    "train_df['COST'] = np.log1p(train_df['COST'])"
   ]
  },
  {
   "cell_type": "code",
   "execution_count": 127,
   "metadata": {},
   "outputs": [
    {
     "name": "stdout",
     "output_type": "stream",
     "text": [
      "Duplicate feature names: Index(['bakery', 'bar', 'cafe', 'food', 'paan', 'bar', 'indian', 'kerala',\n",
      "       'malaysian', 'only',\n",
      "       ...\n",
      "       'vyttila', 'wagle', 'ward', 'west', 'whitefield', 'yousufguda', '10',\n",
      "       '11', '12', '24'],\n",
      "      dtype='object', length=352)\n"
     ]
    }
   ],
   "source": [
    "# Check for duplicate column names\n",
    "duplicate_columns = df.columns[df.columns.duplicated()]\n",
    "print(\"Duplicate feature names:\", duplicate_columns)\n"
   ]
  },
  {
   "cell_type": "code",
   "execution_count": 154,
   "metadata": {},
   "outputs": [
    {
     "name": "stdout",
     "output_type": "stream",
     "text": [
      "Unexpected exception formatting exception. Falling back to standard exception\n"
     ]
    },
    {
     "name": "stderr",
     "output_type": "stream",
     "text": [
      "Traceback (most recent call last):\n",
      "  File \"C:\\Users\\mdirf\\anaconda3\\lib\\site-packages\\IPython\\core\\interactiveshell.py\", line 3460, in run_code\n",
      "    exec(code_obj, self.user_global_ns, self.user_ns)\n",
      "  File \"C:\\Users\\mdirf\\AppData\\Local\\Temp\\ipykernel_11612\\3584603512.py\", line 5, in <module>\n",
      "    df.drop(columns=['bakery'], inplace=True)\n",
      "  File \"C:\\Users\\mdirf\\anaconda3\\lib\\site-packages\\pandas\\util\\_decorators.py\", line 331, in wrapper\n",
      "    stacklevel=find_stack_level(),\n",
      "  File \"C:\\Users\\mdirf\\anaconda3\\lib\\site-packages\\pandas\\core\\frame.py\", line 5399, in drop\n",
      "    columns: IndexLabel = ...,\n",
      "  File \"C:\\Users\\mdirf\\anaconda3\\lib\\site-packages\\pandas\\util\\_decorators.py\", line 331, in wrapper\n",
      "    stacklevel=find_stack_level(),\n",
      "  File \"C:\\Users\\mdirf\\anaconda3\\lib\\site-packages\\pandas\\core\\generic.py\", line 4505, in drop\n",
      "  File \"C:\\Users\\mdirf\\anaconda3\\lib\\site-packages\\pandas\\core\\generic.py\", line 4546, in _drop_axis\n",
      "    ...     ],\n",
      "  File \"C:\\Users\\mdirf\\anaconda3\\lib\\site-packages\\pandas\\core\\indexes\\base.py\", line 6934, in drop\n",
      "KeyError: \"['bakery'] not found in axis\"\n",
      "\n",
      "During handling of the above exception, another exception occurred:\n",
      "\n",
      "Traceback (most recent call last):\n",
      "  File \"C:\\Users\\mdirf\\anaconda3\\lib\\site-packages\\IPython\\core\\interactiveshell.py\", line 2057, in showtraceback\n",
      "    stb = self.InteractiveTB.structured_traceback(\n",
      "  File \"C:\\Users\\mdirf\\anaconda3\\lib\\site-packages\\IPython\\core\\ultratb.py\", line 1118, in structured_traceback\n",
      "    return FormattedTB.structured_traceback(\n",
      "  File \"C:\\Users\\mdirf\\anaconda3\\lib\\site-packages\\IPython\\core\\ultratb.py\", line 1012, in structured_traceback\n",
      "    return VerboseTB.structured_traceback(\n",
      "  File \"C:\\Users\\mdirf\\anaconda3\\lib\\site-packages\\IPython\\core\\ultratb.py\", line 865, in structured_traceback\n",
      "    formatted_exception = self.format_exception_as_a_whole(etype, evalue, etb, number_of_lines_of_context,\n",
      "  File \"C:\\Users\\mdirf\\anaconda3\\lib\\site-packages\\IPython\\core\\ultratb.py\", line 818, in format_exception_as_a_whole\n",
      "    frames.append(self.format_record(r))\n",
      "  File \"C:\\Users\\mdirf\\anaconda3\\lib\\site-packages\\IPython\\core\\ultratb.py\", line 736, in format_record\n",
      "    result += ''.join(_format_traceback_lines(frame_info.lines, Colors, self.has_colors, lvals))\n",
      "  File \"C:\\Users\\mdirf\\anaconda3\\lib\\site-packages\\stack_data\\utils.py\", line 145, in cached_property_wrapper\n",
      "    value = obj.__dict__[self.func.__name__] = self.func(obj)\n",
      "  File \"C:\\Users\\mdirf\\anaconda3\\lib\\site-packages\\stack_data\\core.py\", line 698, in lines\n",
      "    pieces = self.included_pieces\n",
      "  File \"C:\\Users\\mdirf\\anaconda3\\lib\\site-packages\\stack_data\\utils.py\", line 145, in cached_property_wrapper\n",
      "    value = obj.__dict__[self.func.__name__] = self.func(obj)\n",
      "  File \"C:\\Users\\mdirf\\anaconda3\\lib\\site-packages\\stack_data\\core.py\", line 649, in included_pieces\n",
      "    pos = scope_pieces.index(self.executing_piece)\n",
      "  File \"C:\\Users\\mdirf\\anaconda3\\lib\\site-packages\\stack_data\\utils.py\", line 145, in cached_property_wrapper\n",
      "    value = obj.__dict__[self.func.__name__] = self.func(obj)\n",
      "  File \"C:\\Users\\mdirf\\anaconda3\\lib\\site-packages\\stack_data\\core.py\", line 628, in executing_piece\n",
      "    return only(\n",
      "  File \"C:\\Users\\mdirf\\anaconda3\\lib\\site-packages\\executing\\executing.py\", line 164, in only\n",
      "    raise NotOneValueFound('Expected one value, found 0')\n",
      "executing.executing.NotOneValueFound: Expected one value, found 0\n"
     ]
    }
   ],
   "source": [
    "# Assuming df is your DataFrame and 'bakery' is the duplicate feature name\n",
    "df.rename(columns={'bakery': 'bakery_2'}, inplace=True)\n",
    "\n",
    "# Alternatively, you can drop one of the duplicate columns\n",
    "df.drop(columns=['bakery'], inplace=True)\n"
   ]
  },
  {
   "cell_type": "code",
   "execution_count": 155,
   "metadata": {},
   "outputs": [
    {
     "name": "stdout",
     "output_type": "stream",
     "text": [
      "An error occurred: Feature (bakery) appears more than one time.\n"
     ]
    }
   ],
   "source": [
    "try:\n",
    "    # Your code that may raise an exception goes here\n",
    "    # For example, training the LightGBM model\n",
    "    lgbm = lgb.train(params=param, train_set=train_data, valid_sets=[test_data])\n",
    "    y_pred_lgbm = lgbm.predict(X_cv)\n",
    "    print('RMSLE:', sqrt(mean_squared_log_error(np.exp(y_cv), np.exp(y_pred_lgbm))))\n",
    "except Exception as e:\n",
    "    # Print the exception message\n",
    "    print(f\"An error occurred: {str(e)}\")\n",
    "    # Optionally, you can also log the exception for further investigation\n",
    "    # logging.error(f\"An error occurred: {str(e)}\")\n"
   ]
  },
  {
   "cell_type": "code",
   "execution_count": 156,
   "metadata": {},
   "outputs": [
    {
     "name": "stdout",
     "output_type": "stream",
     "text": [
      "['feature_0', 'feature_1', 'feature_2', 'feature_3', 'feature_4', 'feature_5', 'feature_6', 'feature_7', 'feature_8', 'feature_9', 'feature_10', 'feature_11', 'feature_12', 'feature_13', 'feature_14', 'feature_15', 'feature_16', 'feature_17', 'feature_18', 'feature_19', 'feature_20', 'feature_21', 'feature_22', 'feature_23', 'feature_24', 'feature_25', 'feature_26', 'feature_27', 'feature_28', 'feature_29', 'feature_30', 'feature_31', 'feature_32', 'feature_33', 'feature_34', 'feature_35', 'feature_36', 'feature_37', 'feature_38', 'feature_39', 'feature_40', 'feature_41', 'feature_42', 'feature_43', 'feature_44', 'feature_45', 'feature_46', 'feature_47', 'feature_48', 'feature_49', 'feature_50', 'feature_51', 'feature_52', 'feature_53', 'feature_54', 'feature_55', 'feature_56', 'feature_57', 'feature_58', 'feature_59', 'feature_60', 'feature_61', 'feature_62', 'feature_63', 'feature_64', 'feature_65', 'feature_66', 'feature_67', 'feature_68', 'feature_69', 'feature_70', 'feature_71', 'feature_72', 'feature_73', 'feature_74', 'feature_75', 'feature_76', 'feature_77', 'feature_78', 'feature_79', 'feature_80', 'feature_81', 'feature_82', 'feature_83', 'feature_84', 'feature_85', 'feature_86', 'feature_87', 'feature_88', 'feature_89', 'feature_90', 'feature_91', 'feature_92', 'feature_93', 'feature_94', 'feature_95', 'feature_96', 'feature_97', 'feature_98', 'feature_99', 'feature_100', 'feature_101', 'feature_102', 'feature_103', 'feature_104', 'feature_105', 'feature_106', 'feature_107', 'feature_108', 'feature_109', 'feature_110', 'feature_111', 'feature_112', 'feature_113', 'feature_114', 'feature_115', 'feature_116', 'feature_117', 'feature_118', 'feature_119', 'feature_120', 'feature_121', 'feature_122', 'feature_123', 'feature_124', 'feature_125', 'feature_126', 'feature_127', 'feature_128', 'feature_129', 'feature_130', 'feature_131', 'feature_132', 'feature_133', 'feature_134', 'feature_135', 'feature_136', 'feature_137', 'feature_138', 'feature_139', 'feature_140', 'feature_141', 'feature_142', 'feature_143', 'feature_144', 'feature_145', 'feature_146', 'feature_147', 'feature_148', 'feature_149', 'feature_150', 'feature_151', 'feature_152', 'feature_153', 'feature_154', 'feature_155', 'feature_156', 'feature_157', 'feature_158', 'feature_159', 'feature_160', 'feature_161', 'feature_162', 'feature_163', 'feature_164', 'feature_165', 'feature_166', 'feature_167', 'feature_168', 'feature_169', 'feature_170', 'feature_171', 'feature_172', 'feature_173', 'feature_174', 'feature_175', 'feature_176', 'feature_177', 'feature_178', 'feature_179', 'feature_180', 'feature_181', 'feature_182', 'feature_183', 'feature_184', 'feature_185', 'feature_186', 'feature_187', 'feature_188', 'feature_189', 'feature_190', 'feature_191', 'feature_192', 'feature_193', 'feature_194', 'feature_195', 'feature_196', 'feature_197', 'feature_198', 'feature_199', 'feature_200', 'feature_201', 'feature_202', 'feature_203', 'feature_204', 'feature_205', 'feature_206', 'feature_207', 'feature_208', 'feature_209', 'feature_210', 'feature_211', 'feature_212', 'feature_213', 'feature_214', 'feature_215', 'feature_216', 'feature_217', 'feature_218', 'feature_219', 'feature_220', 'feature_221', 'feature_222', 'feature_223', 'feature_224', 'feature_225', 'feature_226', 'feature_227', 'feature_228', 'feature_229', 'feature_230', 'feature_231', 'feature_232', 'feature_233', 'feature_234', 'feature_235', 'feature_236', 'feature_237', 'feature_238', 'feature_239', 'feature_240', 'feature_241', 'feature_242', 'feature_243', 'feature_244', 'feature_245', 'feature_246', 'feature_247', 'feature_248', 'feature_249', 'feature_250', 'feature_251', 'feature_252', 'feature_253', 'feature_254', 'feature_255', 'feature_256', 'feature_257', 'feature_258', 'feature_259', 'feature_260', 'feature_261', 'feature_262', 'feature_263', 'feature_264', 'feature_265', 'feature_266', 'feature_267', 'feature_268', 'feature_269', 'feature_270', 'feature_271', 'feature_272', 'feature_273', 'feature_274', 'feature_275', 'feature_276', 'feature_277', 'feature_278', 'feature_279', 'feature_280', 'feature_281', 'feature_282', 'feature_283', 'feature_284', 'feature_285', 'feature_286', 'feature_287', 'feature_288', 'feature_289', 'feature_290', 'feature_291', 'feature_292', 'feature_293', 'feature_294', 'feature_295', 'feature_296', 'feature_297', 'feature_298', 'feature_299', 'feature_300', 'feature_301', 'feature_302', 'feature_303', 'feature_304', 'feature_305', 'feature_306', 'feature_307', 'feature_308', 'feature_309', 'feature_310', 'feature_311', 'feature_312', 'feature_313', 'feature_314', 'feature_315', 'feature_316', 'feature_317', 'feature_318', 'feature_319', 'feature_320', 'feature_321', 'feature_322', 'feature_323', 'feature_324', 'feature_325', 'feature_326', 'feature_327', 'feature_328', 'feature_329', 'feature_330', 'feature_331', 'feature_332', 'feature_333', 'feature_334', 'feature_335', 'feature_336', 'feature_337', 'feature_338', 'feature_339', 'feature_340', 'feature_341', 'feature_342', 'feature_343', 'feature_344', 'feature_345', 'feature_346', 'feature_347', 'feature_348', 'feature_349', 'feature_350', 'feature_351', 'feature_352', 'feature_353', 'feature_354', 'feature_355', 'feature_356', 'feature_357', 'feature_358', 'feature_359', 'feature_360', 'feature_361', 'feature_362', 'feature_363', 'feature_364', 'feature_365', 'feature_366', 'feature_367', 'feature_368', 'feature_369', 'feature_370', 'feature_371', 'feature_372', 'feature_373', 'feature_374', 'feature_375', 'feature_376', 'feature_377', 'feature_378', 'feature_379', 'feature_380', 'feature_381', 'feature_382', 'feature_383', 'feature_384', 'feature_385', 'feature_386', 'feature_387', 'feature_388', 'feature_389', 'feature_390', 'feature_391', 'feature_392', 'feature_393', 'feature_394', 'feature_395', 'feature_396', 'feature_397', 'feature_398', 'feature_399', 'feature_400', 'feature_401', 'feature_402', 'feature_403', 'feature_404', 'feature_405', 'feature_406', 'feature_407', 'feature_408', 'feature_409', 'feature_410', 'feature_411', 'feature_412', 'feature_413', 'feature_414', 'feature_415', 'feature_416', 'feature_417', 'feature_418', 'feature_419', 'feature_420', 'feature_421', 'feature_422', 'feature_423', 'feature_424', 'feature_425', 'feature_426', 'feature_427', 'feature_428', 'feature_429', 'feature_430', 'feature_431', 'feature_432', 'feature_433', 'feature_434', 'feature_435', 'feature_436', 'feature_437', 'feature_438', 'feature_439', 'feature_440', 'feature_441', 'feature_442', 'feature_443', 'feature_444', 'feature_445', 'feature_446', 'feature_447', 'feature_448', 'feature_449', 'feature_450', 'feature_451', 'feature_452', 'feature_453', 'feature_454', 'feature_455', 'feature_456', 'feature_457', 'feature_458', 'feature_459', 'feature_460', 'feature_461', 'feature_462', 'feature_463', 'feature_464', 'feature_465', 'feature_466', 'feature_467', 'feature_468', 'feature_469', 'feature_470', 'feature_471', 'feature_472', 'feature_473', 'feature_474', 'feature_475', 'feature_476', 'feature_477', 'feature_478', 'feature_479', 'feature_480', 'feature_481', 'feature_482', 'feature_483', 'feature_484', 'feature_485', 'feature_486', 'feature_487', 'feature_488', 'feature_489', 'feature_490', 'feature_491', 'feature_492', 'feature_493', 'feature_494', 'feature_495', 'feature_496', 'feature_497', 'feature_498', 'feature_499', 'feature_500', 'feature_501', 'feature_502', 'feature_503', 'feature_504', 'feature_505', 'feature_506', 'feature_507', 'feature_508', 'feature_509', 'feature_510', 'feature_511', 'feature_512', 'feature_513', 'feature_514', 'feature_515', 'feature_516', 'feature_517', 'feature_518', 'feature_519', 'feature_520', 'feature_521', 'feature_522', 'feature_523', 'feature_524', 'feature_525', 'feature_526', 'feature_527', 'feature_528', 'feature_529', 'feature_530', 'feature_531', 'feature_532', 'feature_533', 'feature_534', 'feature_535', 'feature_536', 'feature_537', 'feature_538', 'feature_539', 'feature_540', 'feature_541', 'feature_542', 'feature_543', 'feature_544', 'feature_545', 'feature_546', 'feature_547', 'feature_548', 'feature_549', 'feature_550', 'feature_551', 'feature_552', 'feature_553', 'feature_554', 'feature_555', 'feature_556', 'feature_557', 'feature_558', 'feature_559', 'feature_560', 'feature_561', 'feature_562', 'feature_563', 'feature_564', 'feature_565', 'feature_566', 'feature_567', 'feature_568', 'feature_569', 'feature_570', 'feature_571', 'feature_572', 'feature_573', 'feature_574', 'feature_575', 'feature_576', 'feature_577', 'feature_578', 'feature_579', 'feature_580', 'feature_581', 'feature_582', 'feature_583', 'feature_584', 'feature_585', 'feature_586', 'feature_587', 'feature_588', 'feature_589', 'feature_590', 'feature_591', 'feature_592', 'feature_593', 'feature_594', 'feature_595', 'feature_596', 'feature_597', 'feature_598', 'feature_599', 'feature_600', 'feature_601', 'feature_602', 'feature_603', 'feature_604', 'feature_605', 'feature_606', 'feature_607', 'feature_608', 'feature_609', 'feature_610', 'feature_611', 'feature_612', 'feature_613', 'feature_614', 'feature_615', 'feature_616', 'feature_617', 'feature_618', 'feature_619', 'feature_620', 'feature_621', 'feature_622', 'feature_623', 'feature_624', 'feature_625', 'feature_626', 'feature_627', 'feature_628', 'feature_629', 'feature_630', 'feature_631', 'feature_632', 'feature_633', 'feature_634', 'feature_635', 'feature_636', 'feature_637', 'feature_638', 'feature_639', 'feature_640', 'feature_641', 'feature_642', 'feature_643', 'feature_644', 'feature_645', 'feature_646', 'feature_647', 'feature_648', 'feature_649', 'feature_650', 'feature_651', 'feature_652', 'feature_653', 'feature_654', 'feature_655', 'feature_656', 'feature_657', 'feature_658', 'feature_659', 'feature_660', 'feature_661', 'feature_662', 'feature_663', 'feature_664', 'feature_665', 'feature_666', 'feature_667', 'feature_668', 'feature_669', 'feature_670', 'feature_671', 'feature_672', 'feature_673', 'feature_674', 'feature_675', 'feature_676', 'feature_677', 'feature_678', 'feature_679', 'feature_680', 'feature_681', 'feature_682', 'feature_683', 'feature_684', 'feature_685', 'feature_686', 'feature_687', 'feature_688', 'feature_689', 'feature_690', 'feature_691', 'feature_692', 'feature_693', 'feature_694', 'feature_695', 'feature_696', 'feature_697', 'feature_698', 'feature_699', 'feature_700', 'feature_701', 'feature_702', 'feature_703', 'feature_704', 'feature_705', 'feature_706', 'feature_707', 'feature_708', 'feature_709', 'feature_710', 'feature_711', 'feature_712', 'feature_713', 'feature_714', 'feature_715', 'feature_716', 'feature_717', 'feature_718', 'feature_719', 'feature_720', 'feature_721', 'feature_722', 'feature_723', 'feature_724', 'feature_725', 'feature_726', 'feature_727', 'feature_728', 'feature_729', 'feature_730', 'feature_731', 'feature_732', 'feature_733', 'feature_734', 'feature_735', 'feature_736', 'feature_737', 'feature_738', 'feature_739', 'feature_740', 'feature_741', 'feature_742', 'feature_743', 'feature_744', 'feature_745', 'feature_746', 'feature_747', 'feature_748', 'feature_749', 'feature_750', 'feature_751', 'feature_752', 'feature_753', 'feature_754', 'feature_755', 'feature_756', 'feature_757', 'feature_758', 'feature_759', 'feature_760', 'feature_761', 'feature_762', 'feature_763', 'feature_764', 'feature_765', 'feature_766', 'feature_767', 'feature_768', 'feature_769', 'feature_770', 'feature_771', 'feature_772', 'feature_773', 'feature_774', 'feature_775', 'feature_776', 'feature_777', 'feature_778', 'feature_779', 'feature_780', 'feature_781', 'feature_782', 'feature_783', 'feature_784', 'feature_785', 'feature_786', 'feature_787', 'feature_788', 'feature_789', 'feature_790', 'feature_791', 'feature_792', 'feature_793', 'feature_794', 'feature_795', 'feature_796', 'feature_797', 'feature_798', 'feature_799', 'feature_800', 'feature_801', 'feature_802', 'feature_803', 'feature_804', 'feature_805', 'feature_806', 'feature_807', 'feature_808', 'feature_809', 'feature_810', 'feature_811', 'feature_812', 'feature_813', 'feature_814', 'feature_815', 'feature_816', 'feature_817', 'feature_818', 'feature_819', 'feature_820', 'feature_821', 'feature_822', 'feature_823', 'feature_824', 'feature_825', 'feature_826', 'feature_827', 'feature_828', 'feature_829', 'feature_830', 'feature_831', 'feature_832', 'feature_833', 'feature_834', 'feature_835', 'feature_836', 'feature_837', 'feature_838', 'feature_839', 'feature_840', 'feature_841', 'feature_842', 'feature_843', 'feature_844', 'feature_845', 'feature_846', 'feature_847', 'feature_848', 'feature_849', 'feature_850', 'feature_851', 'feature_852', 'feature_853', 'feature_854', 'feature_855', 'feature_856', 'feature_857', 'feature_858', 'feature_859', 'feature_860', 'feature_861', 'feature_862', 'feature_863', 'feature_864', 'feature_865', 'feature_866', 'feature_867', 'feature_868', 'feature_869', 'feature_870', 'feature_871', 'feature_872', 'feature_873', 'feature_874', 'feature_875', 'feature_876', 'feature_877', 'feature_878', 'feature_879', 'feature_880', 'feature_881', 'feature_882', 'feature_883', 'feature_884', 'feature_885', 'feature_886', 'feature_887', 'feature_888', 'feature_889', 'feature_890', 'feature_891', 'feature_892', 'feature_893', 'feature_894', 'feature_895', 'feature_896', 'feature_897', 'feature_898', 'feature_899', 'feature_900', 'feature_901', 'feature_902', 'feature_903', 'feature_904', 'feature_905', 'feature_906', 'feature_907', 'feature_908', 'feature_909', 'feature_910', 'feature_911', 'feature_912', 'feature_913', 'feature_914', 'feature_915', 'feature_916', 'feature_917', 'feature_918', 'feature_919', 'feature_920', 'feature_921', 'feature_922', 'feature_923', 'feature_924', 'feature_925', 'feature_926', 'feature_927', 'feature_928', 'feature_929', 'feature_930', 'feature_931', 'feature_932', 'feature_933', 'feature_934', 'feature_935', 'feature_936', 'feature_937', 'feature_938', 'feature_939', 'feature_940', 'feature_941', 'feature_942', 'feature_943', 'feature_944', 'feature_945', 'feature_946', 'feature_947', 'feature_948', 'feature_949', 'feature_950', 'feature_951', 'feature_952', 'feature_953', 'feature_954', 'feature_955', 'feature_956', 'feature_957', 'feature_958', 'feature_959', 'feature_960', 'feature_961', 'feature_962', 'feature_963', 'feature_964', 'feature_965', 'feature_966', 'feature_967', 'feature_968', 'feature_969', 'feature_970', 'feature_971', 'feature_972', 'feature_973', 'feature_974', 'feature_975', 'feature_976', 'feature_977', 'feature_978', 'feature_979', 'feature_980', 'feature_981', 'feature_982', 'feature_983', 'feature_984', 'feature_985', 'feature_986', 'feature_987', 'feature_988', 'feature_989', 'feature_990', 'feature_991', 'feature_992', 'feature_993', 'feature_994', 'feature_995', 'feature_996', 'feature_997', 'feature_998', 'feature_999', 'feature_1000', 'feature_1001', 'feature_1002', 'feature_1003', 'feature_1004', 'feature_1005', 'feature_1006', 'feature_1007', 'feature_1008', 'feature_1009', 'feature_1010', 'feature_1011', 'feature_1012', 'feature_1013', 'feature_1014', 'feature_1015', 'feature_1016', 'feature_1017', 'feature_1018', 'feature_1019', 'feature_1020', 'feature_1021', 'feature_1022', 'feature_1023', 'feature_1024', 'feature_1025', 'feature_1026', 'feature_1027', 'feature_1028', 'feature_1029', 'feature_1030', 'feature_1031', 'feature_1032', 'feature_1033', 'feature_1034', 'feature_1035', 'feature_1036', 'feature_1037', 'feature_1038', 'feature_1039', 'feature_1040', 'feature_1041', 'feature_1042', 'feature_1043', 'feature_1044', 'feature_1045', 'feature_1046', 'feature_1047', 'feature_1048', 'feature_1049', 'feature_1050', 'feature_1051', 'feature_1052', 'feature_1053', 'feature_1054', 'feature_1055', 'feature_1056', 'feature_1057', 'feature_1058', 'feature_1059', 'feature_1060', 'feature_1061', 'feature_1062', 'feature_1063', 'feature_1064', 'feature_1065', 'feature_1066', 'feature_1067', 'feature_1068', 'feature_1069', 'feature_1070', 'feature_1071', 'feature_1072', 'feature_1073', 'feature_1074', 'feature_1075', 'feature_1076', 'feature_1077', 'feature_1078', 'feature_1079', 'feature_1080', 'feature_1081', 'feature_1082', 'feature_1083', 'feature_1084', 'feature_1085', 'feature_1086', 'feature_1087', 'feature_1088', 'feature_1089', 'feature_1090', 'feature_1091', 'feature_1092', 'feature_1093', 'feature_1094', 'feature_1095', 'feature_1096', 'feature_1097', 'feature_1098', 'feature_1099', 'feature_1100', 'feature_1101', 'feature_1102', 'feature_1103', 'feature_1104', 'feature_1105', 'feature_1106', 'feature_1107', 'feature_1108', 'feature_1109', 'feature_1110', 'feature_1111', 'feature_1112', 'feature_1113', 'feature_1114', 'feature_1115', 'feature_1116', 'feature_1117', 'feature_1118', 'feature_1119', 'feature_1120', 'feature_1121', 'feature_1122', 'feature_1123', 'feature_1124', 'feature_1125', 'feature_1126', 'feature_1127', 'feature_1128', 'feature_1129', 'feature_1130', 'feature_1131', 'feature_1132', 'feature_1133', 'feature_1134', 'feature_1135', 'feature_1136', 'feature_1137', 'feature_1138', 'feature_1139', 'feature_1140', 'feature_1141', 'feature_1142', 'feature_1143', 'feature_1144', 'feature_1145', 'feature_1146', 'feature_1147', 'feature_1148', 'feature_1149', 'feature_1150', 'feature_1151', 'feature_1152', 'feature_1153', 'feature_1154', 'feature_1155', 'feature_1156', 'feature_1157', 'feature_1158', 'feature_1159', 'feature_1160', 'feature_1161', 'feature_1162', 'feature_1163', 'feature_1164', 'feature_1165', 'feature_1166', 'feature_1167', 'feature_1168', 'feature_1169', 'feature_1170', 'feature_1171', 'feature_1172', 'feature_1173', 'feature_1174', 'feature_1175', 'feature_1176', 'feature_1177', 'feature_1178', 'feature_1179', 'feature_1180', 'feature_1181', 'feature_1182', 'feature_1183', 'feature_1184', 'feature_1185', 'feature_1186', 'feature_1187', 'feature_1188', 'feature_1189', 'feature_1190', 'feature_1191', 'feature_1192', 'feature_1193', 'feature_1194', 'feature_1195', 'feature_1196', 'feature_1197', 'feature_1198', 'feature_1199', 'feature_1200', 'feature_1201', 'feature_1202', 'feature_1203', 'feature_1204', 'feature_1205', 'feature_1206', 'feature_1207', 'feature_1208', 'feature_1209', 'feature_1210', 'feature_1211', 'feature_1212', 'feature_1213', 'feature_1214', 'feature_1215', 'feature_1216', 'feature_1217', 'feature_1218', 'feature_1219', 'feature_1220', 'feature_1221', 'feature_1222', 'feature_1223', 'feature_1224', 'feature_1225', 'feature_1226', 'feature_1227', 'feature_1228', 'feature_1229', 'feature_1230', 'feature_1231', 'feature_1232', 'feature_1233', 'feature_1234', 'feature_1235', 'feature_1236', 'feature_1237', 'feature_1238', 'feature_1239', 'feature_1240', 'feature_1241', 'feature_1242', 'feature_1243', 'feature_1244', 'feature_1245', 'feature_1246', 'feature_1247', 'feature_1248', 'feature_1249', 'feature_1250', 'feature_1251', 'feature_1252', 'feature_1253', 'feature_1254', 'feature_1255', 'feature_1256', 'feature_1257', 'feature_1258', 'feature_1259', 'feature_1260', 'feature_1261', 'feature_1262', 'feature_1263', 'feature_1264', 'feature_1265', 'feature_1266', 'feature_1267', 'feature_1268', 'feature_1269', 'feature_1270', 'feature_1271', 'feature_1272', 'feature_1273', 'feature_1274', 'feature_1275', 'feature_1276', 'feature_1277', 'feature_1278', 'feature_1279', 'feature_1280', 'feature_1281', 'feature_1282', 'feature_1283', 'feature_1284', 'feature_1285', 'feature_1286', 'feature_1287', 'feature_1288', 'feature_1289', 'feature_1290', 'feature_1291', 'feature_1292', 'feature_1293', 'feature_1294', 'feature_1295', 'feature_1296', 'feature_1297', 'feature_1298', 'feature_1299', 'feature_1300', 'feature_1301', 'feature_1302', 'feature_1303', 'feature_1304', 'feature_1305', 'feature_1306', 'feature_1307', 'feature_1308', 'feature_1309', 'feature_1310', 'feature_1311', 'feature_1312', 'feature_1313', 'feature_1314', 'feature_1315', 'feature_1316', 'feature_1317', 'feature_1318', 'feature_1319', 'feature_1320', 'feature_1321', 'feature_1322', 'feature_1323', 'feature_1324', 'feature_1325', 'feature_1326', 'feature_1327', 'feature_1328', 'feature_1329', 'feature_1330', 'feature_1331', 'feature_1332', 'feature_1333', 'feature_1334', 'feature_1335', 'feature_1336', 'feature_1337', 'feature_1338', 'feature_1339', 'feature_1340', 'feature_1341', 'feature_1342', 'feature_1343', 'feature_1344', 'feature_1345', 'feature_1346', 'feature_1347', 'feature_1348', 'feature_1349', 'feature_1350', 'feature_1351', 'feature_1352', 'feature_1353', 'feature_1354', 'feature_1355', 'feature_1356', 'feature_1357', 'feature_1358', 'feature_1359', 'feature_1360', 'feature_1361', 'feature_1362', 'feature_1363', 'feature_1364', 'feature_1365', 'feature_1366', 'feature_1367', 'feature_1368', 'feature_1369', 'feature_1370', 'feature_1371', 'feature_1372', 'feature_1373', 'feature_1374', 'feature_1375', 'feature_1376', 'feature_1377', 'feature_1378', 'feature_1379', 'feature_1380', 'feature_1381', 'feature_1382', 'feature_1383', 'feature_1384', 'feature_1385', 'feature_1386', 'feature_1387', 'feature_1388', 'feature_1389', 'feature_1390', 'feature_1391', 'feature_1392', 'feature_1393', 'feature_1394', 'feature_1395', 'feature_1396', 'feature_1397', 'feature_1398', 'feature_1399', 'feature_1400', 'feature_1401', 'feature_1402', 'feature_1403', 'feature_1404', 'feature_1405', 'feature_1406', 'feature_1407', 'feature_1408', 'feature_1409', 'feature_1410', 'feature_1411', 'feature_1412', 'feature_1413', 'feature_1414', 'feature_1415', 'feature_1416', 'feature_1417', 'feature_1418', 'feature_1419', 'feature_1420', 'feature_1421', 'feature_1422', 'feature_1423', 'feature_1424', 'feature_1425', 'feature_1426', 'feature_1427', 'feature_1428', 'feature_1429', 'feature_1430', 'feature_1431', 'feature_1432', 'feature_1433', 'feature_1434', 'feature_1435', 'feature_1436', 'feature_1437', 'feature_1438', 'feature_1439', 'feature_1440', 'feature_1441', 'feature_1442', 'feature_1443', 'feature_1444', 'feature_1445', 'feature_1446', 'feature_1447', 'feature_1448', 'feature_1449', 'feature_1450', 'feature_1451', 'feature_1452', 'feature_1453', 'feature_1454', 'feature_1455', 'feature_1456', 'feature_1457', 'feature_1458', 'feature_1459', 'feature_1460', 'feature_1461', 'feature_1462', 'feature_1463', 'feature_1464', 'feature_1465', 'feature_1466', 'feature_1467', 'feature_1468', 'feature_1469', 'feature_1470', 'feature_1471', 'feature_1472', 'feature_1473', 'feature_1474', 'feature_1475', 'feature_1476', 'feature_1477', 'feature_1478', 'feature_1479', 'feature_1480', 'feature_1481', 'feature_1482', 'feature_1483', 'feature_1484', 'feature_1485', 'feature_1486', 'feature_1487', 'feature_1488', 'feature_1489', 'feature_1490', 'feature_1491', 'feature_1492', 'feature_1493', 'feature_1494', 'feature_1495', 'feature_1496', 'feature_1497', 'feature_1498', 'feature_1499', 'feature_1500', 'feature_1501', 'feature_1502', 'feature_1503', 'feature_1504', 'feature_1505', 'feature_1506', 'feature_1507', 'feature_1508', 'feature_1509', 'feature_1510', 'feature_1511', 'feature_1512', 'feature_1513', 'feature_1514', 'feature_1515', 'feature_1516', 'feature_1517', 'feature_1518', 'feature_1519', 'feature_1520', 'feature_1521', 'feature_1522', 'feature_1523', 'feature_1524', 'feature_1525', 'feature_1526', 'feature_1527', 'feature_1528', 'feature_1529', 'feature_1530', 'feature_1531', 'feature_1532', 'feature_1533', 'feature_1534', 'feature_1535', 'feature_1536', 'feature_1537', 'feature_1538', 'feature_1539', 'feature_1540', 'feature_1541', 'feature_1542', 'feature_1543', 'feature_1544', 'feature_1545', 'feature_1546', 'feature_1547', 'feature_1548', 'feature_1549', 'feature_1550', 'feature_1551', 'feature_1552', 'feature_1553', 'feature_1554', 'feature_1555', 'feature_1556', 'feature_1557', 'feature_1558', 'feature_1559', 'feature_1560', 'feature_1561', 'feature_1562', 'feature_1563', 'feature_1564', 'feature_1565', 'feature_1566', 'feature_1567', 'feature_1568', 'feature_1569', 'feature_1570', 'feature_1571', 'feature_1572', 'feature_1573', 'feature_1574', 'feature_1575', 'feature_1576', 'feature_1577', 'feature_1578', 'feature_1579', 'feature_1580', 'feature_1581', 'feature_1582', 'feature_1583', 'feature_1584', 'feature_1585', 'feature_1586', 'feature_1587', 'feature_1588', 'feature_1589', 'feature_1590', 'feature_1591', 'feature_1592', 'feature_1593', 'feature_1594', 'feature_1595', 'feature_1596', 'feature_1597', 'feature_1598', 'feature_1599', 'feature_1600', 'feature_1601', 'feature_1602', 'feature_1603', 'feature_1604', 'feature_1605', 'feature_1606', 'feature_1607', 'feature_1608', 'feature_1609', 'feature_1610', 'feature_1611', 'feature_1612', 'feature_1613', 'feature_1614', 'feature_1615', 'feature_1616', 'feature_1617', 'feature_1618', 'feature_1619', 'feature_1620', 'feature_1621', 'feature_1622', 'feature_1623', 'feature_1624', 'feature_1625', 'feature_1626', 'feature_1627', 'feature_1628', 'feature_1629', 'feature_1630', 'feature_1631', 'feature_1632', 'feature_1633', 'feature_1634', 'feature_1635', 'feature_1636', 'feature_1637', 'feature_1638', 'feature_1639', 'feature_1640', 'feature_1641', 'feature_1642', 'feature_1643', 'feature_1644', 'feature_1645', 'feature_1646', 'feature_1647', 'feature_1648', 'feature_1649', 'feature_1650', 'feature_1651', 'feature_1652', 'feature_1653', 'feature_1654', 'feature_1655', 'feature_1656', 'feature_1657', 'feature_1658', 'feature_1659', 'feature_1660', 'feature_1661', 'feature_1662', 'feature_1663', 'feature_1664', 'feature_1665', 'feature_1666', 'feature_1667', 'feature_1668', 'feature_1669', 'feature_1670', 'feature_1671', 'feature_1672', 'feature_1673', 'feature_1674', 'feature_1675', 'feature_1676', 'feature_1677', 'feature_1678', 'feature_1679', 'feature_1680', 'feature_1681', 'feature_1682', 'feature_1683', 'feature_1684', 'feature_1685', 'feature_1686', 'feature_1687', 'feature_1688', 'feature_1689', 'feature_1690', 'feature_1691', 'feature_1692', 'feature_1693', 'feature_1694', 'feature_1695', 'feature_1696', 'feature_1697', 'feature_1698', 'feature_1699', 'feature_1700', 'feature_1701', 'feature_1702', 'feature_1703', 'feature_1704', 'feature_1705', 'feature_1706', 'feature_1707', 'feature_1708', 'feature_1709', 'feature_1710', 'feature_1711', 'feature_1712', 'feature_1713', 'feature_1714', 'feature_1715', 'feature_1716', 'feature_1717', 'feature_1718', 'feature_1719', 'feature_1720', 'feature_1721', 'feature_1722', 'feature_1723', 'feature_1724', 'feature_1725', 'feature_1726', 'feature_1727', 'feature_1728', 'feature_1729', 'feature_1730', 'feature_1731', 'feature_1732', 'feature_1733', 'feature_1734', 'feature_1735', 'feature_1736', 'feature_1737', 'feature_1738', 'feature_1739', 'feature_1740', 'feature_1741', 'feature_1742', 'feature_1743', 'feature_1744', 'feature_1745', 'feature_1746', 'feature_1747', 'feature_1748', 'feature_1749', 'feature_1750', 'feature_1751', 'feature_1752', 'feature_1753', 'feature_1754', 'feature_1755', 'feature_1756', 'feature_1757', 'feature_1758', 'feature_1759', 'feature_1760', 'feature_1761', 'feature_1762', 'feature_1763', 'feature_1764', 'feature_1765', 'feature_1766', 'feature_1767', 'feature_1768', 'feature_1769', 'feature_1770', 'feature_1771', 'feature_1772', 'feature_1773', 'feature_1774', 'feature_1775', 'feature_1776', 'feature_1777', 'feature_1778', 'feature_1779', 'feature_1780', 'feature_1781', 'feature_1782', 'feature_1783', 'feature_1784', 'feature_1785', 'feature_1786', 'feature_1787', 'feature_1788', 'feature_1789', 'feature_1790', 'feature_1791', 'feature_1792', 'feature_1793', 'feature_1794', 'feature_1795', 'feature_1796', 'feature_1797', 'feature_1798', 'feature_1799', 'feature_1800', 'feature_1801', 'feature_1802', 'feature_1803', 'feature_1804', 'feature_1805', 'feature_1806', 'feature_1807', 'feature_1808', 'feature_1809', 'feature_1810', 'feature_1811', 'feature_1812', 'feature_1813', 'feature_1814', 'feature_1815', 'feature_1816', 'feature_1817', 'feature_1818', 'feature_1819', 'feature_1820', 'feature_1821', 'feature_1822', 'feature_1823', 'feature_1824', 'feature_1825', 'feature_1826', 'feature_1827', 'feature_1828', 'feature_1829', 'feature_1830', 'feature_1831', 'feature_1832', 'feature_1833', 'feature_1834', 'feature_1835', 'feature_1836', 'feature_1837', 'feature_1838', 'feature_1839', 'feature_1840', 'feature_1841', 'feature_1842', 'feature_1843', 'feature_1844', 'feature_1845', 'feature_1846', 'feature_1847', 'feature_1848', 'feature_1849', 'feature_1850', 'feature_1851', 'feature_1852', 'feature_1853', 'feature_1854', 'feature_1855', 'feature_1856', 'feature_1857', 'feature_1858', 'feature_1859', 'feature_1860', 'feature_1861', 'feature_1862', 'feature_1863', 'feature_1864', 'feature_1865', 'feature_1866', 'feature_1867', 'feature_1868', 'feature_1869', 'feature_1870', 'feature_1871', 'feature_1872', 'feature_1873', 'feature_1874', 'feature_1875', 'feature_1876', 'feature_1877', 'feature_1878', 'feature_1879', 'feature_1880', 'feature_1881', 'feature_1882', 'feature_1883', 'feature_1884', 'feature_1885', 'feature_1886', 'feature_1887', 'feature_1888', 'feature_1889', 'feature_1890', 'feature_1891', 'feature_1892', 'feature_1893', 'feature_1894', 'feature_1895', 'feature_1896', 'feature_1897', 'feature_1898', 'feature_1899', 'feature_1900', 'feature_1901', 'feature_1902', 'feature_1903', 'feature_1904', 'feature_1905', 'feature_1906', 'feature_1907', 'feature_1908', 'feature_1909', 'feature_1910', 'feature_1911', 'feature_1912', 'feature_1913', 'feature_1914', 'feature_1915', 'feature_1916', 'feature_1917', 'feature_1918', 'feature_1919', 'feature_1920', 'feature_1921', 'feature_1922', 'feature_1923', 'feature_1924', 'feature_1925', 'feature_1926', 'feature_1927', 'feature_1928', 'feature_1929', 'feature_1930', 'feature_1931', 'feature_1932', 'feature_1933', 'feature_1934', 'feature_1935', 'feature_1936', 'feature_1937', 'feature_1938', 'feature_1939', 'feature_1940', 'feature_1941', 'feature_1942', 'feature_1943', 'feature_1944', 'feature_1945', 'feature_1946', 'feature_1947', 'feature_1948', 'feature_1949', 'feature_1950', 'feature_1951', 'feature_1952', 'feature_1953', 'feature_1954', 'feature_1955', 'feature_1956', 'feature_1957', 'feature_1958', 'feature_1959', 'feature_1960', 'feature_1961', 'feature_1962', 'feature_1963', 'feature_1964', 'feature_1965', 'feature_1966', 'feature_1967', 'feature_1968', 'feature_1969', 'feature_1970', 'feature_1971', 'feature_1972', 'feature_1973', 'feature_1974', 'feature_1975', 'feature_1976', 'feature_1977', 'feature_1978', 'feature_1979', 'feature_1980', 'feature_1981', 'feature_1982', 'feature_1983', 'feature_1984', 'feature_1985', 'feature_1986', 'feature_1987', 'feature_1988', 'feature_1989', 'feature_1990', 'feature_1991', 'feature_1992', 'feature_1993', 'feature_1994', 'feature_1995', 'feature_1996', 'feature_1997', 'feature_1998', 'feature_1999', 'feature_2000', 'feature_2001', 'feature_2002', 'feature_2003', 'feature_2004', 'feature_2005', 'feature_2006', 'feature_2007', 'feature_2008', 'feature_2009', 'feature_2010', 'feature_2011', 'feature_2012', 'feature_2013', 'feature_2014', 'feature_2015', 'feature_2016', 'feature_2017', 'feature_2018', 'feature_2019', 'feature_2020', 'feature_2021', 'feature_2022', 'feature_2023', 'feature_2024', 'feature_2025', 'feature_2026', 'feature_2027', 'feature_2028', 'feature_2029', 'feature_2030', 'feature_2031', 'feature_2032', 'feature_2033', 'feature_2034', 'feature_2035', 'feature_2036', 'feature_2037', 'feature_2038', 'feature_2039', 'feature_2040', 'feature_2041', 'feature_2042', 'feature_2043', 'feature_2044', 'feature_2045', 'feature_2046', 'feature_2047', 'feature_2048', 'feature_2049', 'feature_2050', 'feature_2051', 'feature_2052', 'feature_2053', 'feature_2054', 'feature_2055', 'feature_2056', 'feature_2057', 'feature_2058', 'feature_2059', 'feature_2060', 'feature_2061', 'feature_2062', 'feature_2063', 'feature_2064', 'feature_2065', 'feature_2066', 'feature_2067', 'feature_2068', 'feature_2069', 'feature_2070', 'feature_2071', 'feature_2072', 'feature_2073', 'feature_2074', 'feature_2075', 'feature_2076', 'feature_2077', 'feature_2078', 'feature_2079', 'feature_2080', 'feature_2081', 'feature_2082', 'feature_2083', 'feature_2084', 'feature_2085', 'feature_2086', 'feature_2087', 'feature_2088', 'feature_2089', 'feature_2090', 'feature_2091', 'feature_2092', 'feature_2093', 'feature_2094', 'feature_2095', 'feature_2096', 'feature_2097', 'feature_2098', 'feature_2099', 'feature_2100', 'feature_2101', 'feature_2102', 'feature_2103', 'feature_2104', 'feature_2105', 'feature_2106', 'feature_2107', 'feature_2108', 'feature_2109', 'feature_2110', 'feature_2111', 'feature_2112', 'feature_2113', 'feature_2114', 'feature_2115', 'feature_2116', 'feature_2117', 'feature_2118', 'feature_2119', 'feature_2120', 'feature_2121', 'feature_2122', 'feature_2123', 'feature_2124', 'feature_2125', 'feature_2126', 'feature_2127', 'feature_2128', 'feature_2129', 'feature_2130', 'feature_2131', 'feature_2132', 'feature_2133', 'feature_2134', 'feature_2135', 'feature_2136', 'feature_2137', 'feature_2138', 'feature_2139', 'feature_2140', 'feature_2141', 'feature_2142', 'feature_2143', 'feature_2144', 'feature_2145', 'feature_2146', 'feature_2147', 'feature_2148', 'feature_2149', 'feature_2150', 'feature_2151', 'feature_2152', 'feature_2153', 'feature_2154', 'feature_2155', 'feature_2156', 'feature_2157', 'feature_2158', 'feature_2159', 'feature_2160', 'feature_2161', 'feature_2162', 'feature_2163', 'feature_2164', 'feature_2165', 'feature_2166', 'feature_2167', 'feature_2168', 'feature_2169', 'feature_2170', 'feature_2171', 'feature_2172', 'feature_2173', 'feature_2174', 'feature_2175', 'feature_2176', 'feature_2177', 'feature_2178', 'feature_2179', 'feature_2180', 'feature_2181', 'feature_2182', 'feature_2183', 'feature_2184', 'feature_2185', 'feature_2186', 'feature_2187', 'feature_2188', 'feature_2189', 'feature_2190', 'feature_2191', 'feature_2192', 'feature_2193', 'feature_2194', 'feature_2195', 'feature_2196', 'feature_2197', 'feature_2198', 'feature_2199', 'feature_2200', 'feature_2201', 'feature_2202', 'feature_2203', 'feature_2204', 'feature_2205', 'feature_2206', 'feature_2207', 'feature_2208', 'feature_2209', 'feature_2210', 'feature_2211', 'feature_2212', 'feature_2213', 'feature_2214', 'feature_2215', 'feature_2216', 'feature_2217', 'feature_2218', 'feature_2219', 'feature_2220', 'feature_2221', 'feature_2222', 'feature_2223', 'feature_2224', 'feature_2225', 'feature_2226', 'feature_2227', 'feature_2228', 'feature_2229', 'feature_2230', 'feature_2231', 'feature_2232', 'feature_2233', 'feature_2234', 'feature_2235', 'feature_2236', 'feature_2237', 'feature_2238', 'feature_2239', 'feature_2240', 'feature_2241', 'feature_2242', 'feature_2243', 'feature_2244', 'feature_2245', 'feature_2246', 'feature_2247', 'feature_2248', 'feature_2249', 'feature_2250', 'feature_2251', 'feature_2252', 'feature_2253', 'feature_2254', 'feature_2255', 'feature_2256', 'feature_2257', 'feature_2258', 'feature_2259', 'feature_2260', 'feature_2261', 'feature_2262', 'feature_2263', 'feature_2264', 'feature_2265', 'feature_2266', 'feature_2267', 'feature_2268', 'feature_2269', 'feature_2270', 'feature_2271', 'feature_2272', 'feature_2273', 'feature_2274', 'feature_2275', 'feature_2276', 'feature_2277', 'feature_2278', 'feature_2279', 'feature_2280', 'feature_2281', 'feature_2282', 'feature_2283']\n"
     ]
    }
   ],
   "source": [
    "print(df.columns.tolist())\n"
   ]
  },
  {
   "cell_type": "code",
   "execution_count": 157,
   "metadata": {},
   "outputs": [],
   "source": [
    "# Generate unique names for all features\n",
    "df.columns = [f\"feature_{i}\" for i in range(len(df.columns))]\n"
   ]
  },
  {
   "cell_type": "markdown",
   "metadata": {},
   "source": [
    "### Train test split"
   ]
  },
  {
   "cell_type": "code",
   "execution_count": 158,
   "metadata": {},
   "outputs": [],
   "source": [
    "X = train_df.drop(labels=['COST'], axis=1)\n",
    "y = train_df['COST'].values\n",
    "\n",
    "from sklearn.model_selection import train_test_split\n",
    "\n",
    "X_train, X_cv, y_train, y_cv = train_test_split(X, y, test_size=0.25, random_state=1)"
   ]
  },
  {
   "cell_type": "code",
   "execution_count": 159,
   "metadata": {},
   "outputs": [
    {
     "data": {
      "text/plain": [
       "((9498, 2283), (9498,), (3167, 2283), (3167,))"
      ]
     },
     "execution_count": 159,
     "metadata": {},
     "output_type": "execute_result"
    }
   ],
   "source": [
    "X_train.shape, y_train.shape, X_cv.shape, y_cv.shape"
   ]
  },
  {
   "cell_type": "markdown",
   "metadata": {},
   "source": [
    "### Build the model"
   ]
  },
  {
   "cell_type": "code",
   "execution_count": 164,
   "metadata": {},
   "outputs": [
    {
     "name": "stdout",
     "output_type": "stream",
     "text": [
      "<class 'pandas.core.frame.DataFrame'>\n",
      "<class 'pandas.core.frame.DataFrame'>\n"
     ]
    }
   ],
   "source": [
    "print(type(X_train))\n",
    "print(type(X_cv))"
   ]
  },
  {
   "cell_type": "code",
   "execution_count": 165,
   "metadata": {},
   "outputs": [
    {
     "name": "stdout",
     "output_type": "stream",
     "text": [
      "Index(['RATING', 'VOTES', 'CITY_MEAN_RATING', 'LOCALITY_MEAN_RATING', 'bakery',\n",
      "       'bar', 'beverage', 'bhojanalya', 'bites', 'cafe',\n",
      "       ...\n",
      "       'CLOSED_Closed (Mon-Thu)', 'CLOSED_Closed (Mon-Tue)',\n",
      "       'CLOSED_Closed (Sat)', 'CLOSED_Closed (Sat-Sun)', 'CLOSED_Closed (Sun)',\n",
      "       'CLOSED_Closed (Thu-Sun)', 'CLOSED_Closed (Tue)', 'CLOSED_Closed (Wed)',\n",
      "       'CLOSED_Closed (Wed-Sun)', 'CLOSED_NA'],\n",
      "      dtype='object', length=2283)\n",
      "Index(['RATING', 'VOTES', 'CITY_MEAN_RATING', 'LOCALITY_MEAN_RATING', 'bakery',\n",
      "       'bar', 'beverage', 'bhojanalya', 'bites', 'cafe',\n",
      "       ...\n",
      "       'CLOSED_Closed (Mon-Thu)', 'CLOSED_Closed (Mon-Tue)',\n",
      "       'CLOSED_Closed (Sat)', 'CLOSED_Closed (Sat-Sun)', 'CLOSED_Closed (Sun)',\n",
      "       'CLOSED_Closed (Thu-Sun)', 'CLOSED_Closed (Tue)', 'CLOSED_Closed (Wed)',\n",
      "       'CLOSED_Closed (Wed-Sun)', 'CLOSED_NA'],\n",
      "      dtype='object', length=2283)\n"
     ]
    }
   ],
   "source": [
    "print(X_train.columns)\n",
    "print(X_cv.columns)"
   ]
  },
  {
   "cell_type": "code",
   "execution_count": 166,
   "metadata": {},
   "outputs": [],
   "source": [
    "X_train.columns = X_train.columns.str.strip()\n",
    "X_cv.columns = X_cv.columns.str.strip()"
   ]
  },
  {
   "cell_type": "code",
   "execution_count": 167,
   "metadata": {},
   "outputs": [
    {
     "name": "stdout",
     "output_type": "stream",
     "text": [
      "       RATING   VOTES  CITY_MEAN_RATING  LOCALITY_MEAN_RATING  bakery  \\\n",
      "16122     3.8  1511.0          3.697132              3.694737     0.0   \n",
      "16264     4.4  2055.0          3.697132              3.904348     0.0   \n",
      "7491      3.0     4.0          2.456800              2.405691     0.0   \n",
      "14972     3.8   318.0          3.634672              3.917949     0.0   \n",
      "12210     3.5  1211.0          3.621074              3.572222     0.0   \n",
      "\n",
      "           bar  beverage  bhojanalya     bites  cafe  ...  \\\n",
      "16122  0.80821       0.0         0.0  0.000000   0.0  ...   \n",
      "16264  1.00000       0.0         0.0  0.000000   0.0  ...   \n",
      "7491   0.00000       0.0         0.0  0.000000   0.0  ...   \n",
      "14972  0.00000       0.0         0.0  0.707107   0.0  ...   \n",
      "12210  0.80821       0.0         0.0  0.000000   0.0  ...   \n",
      "\n",
      "       CLOSED_Closed (Mon-Thu)  CLOSED_Closed (Mon-Tue)  CLOSED_Closed (Sat)  \\\n",
      "16122                        0                        0                    0   \n",
      "16264                        0                        0                    0   \n",
      "7491                         0                        0                    0   \n",
      "14972                        0                        0                    0   \n",
      "12210                        0                        0                    0   \n",
      "\n",
      "       CLOSED_Closed (Sat-Sun)  CLOSED_Closed (Sun)  CLOSED_Closed (Thu-Sun)  \\\n",
      "16122                        0                    0                        0   \n",
      "16264                        0                    0                        0   \n",
      "7491                         0                    0                        0   \n",
      "14972                        0                    0                        0   \n",
      "12210                        0                    0                        0   \n",
      "\n",
      "       CLOSED_Closed (Tue)  CLOSED_Closed (Wed)  CLOSED_Closed (Wed-Sun)  \\\n",
      "16122                    0                    0                        0   \n",
      "16264                    0                    0                        0   \n",
      "7491                     0                    0                        0   \n",
      "14972                    0                    0                        0   \n",
      "12210                    0                    0                        0   \n",
      "\n",
      "       CLOSED_NA  \n",
      "16122          1  \n",
      "16264          1  \n",
      "7491           1  \n",
      "14972          1  \n",
      "12210          1  \n",
      "\n",
      "[5 rows x 2283 columns]\n",
      "       RATING   VOTES  CITY_MEAN_RATING  LOCALITY_MEAN_RATING  bakery  bar  \\\n",
      "16699     4.1  1571.0          3.634672              4.133333     0.0  0.0   \n",
      "13148     3.3   121.0          3.621074              3.525000     1.0  0.0   \n",
      "5077      1.0     0.0          3.712857              3.013889     0.0  0.0   \n",
      "12213     4.9  9698.0          3.584408              3.696552     0.0  0.0   \n",
      "13336     3.7   295.0          3.621074              3.460784     0.0  0.0   \n",
      "\n",
      "       beverage  bhojanalya     bites  cafe  ...  CLOSED_Closed (Mon-Thu)  \\\n",
      "16699       0.0         0.0  0.000000   0.0  ...                        0   \n",
      "13148       0.0         0.0  0.000000   0.0  ...                        0   \n",
      "5077        0.0         0.0  0.707107   0.0  ...                        0   \n",
      "12213       0.0         0.0  0.000000   0.0  ...                        0   \n",
      "13336       0.0         0.0  0.000000   0.0  ...                        0   \n",
      "\n",
      "       CLOSED_Closed (Mon-Tue)  CLOSED_Closed (Sat)  CLOSED_Closed (Sat-Sun)  \\\n",
      "16699                        0                    0                        0   \n",
      "13148                        0                    0                        0   \n",
      "5077                         0                    0                        0   \n",
      "12213                        0                    0                        0   \n",
      "13336                        0                    0                        0   \n",
      "\n",
      "       CLOSED_Closed (Sun)  CLOSED_Closed (Thu-Sun)  CLOSED_Closed (Tue)  \\\n",
      "16699                    0                        0                    0   \n",
      "13148                    0                        0                    0   \n",
      "5077                     0                        0                    0   \n",
      "12213                    0                        0                    0   \n",
      "13336                    0                        0                    0   \n",
      "\n",
      "       CLOSED_Closed (Wed)  CLOSED_Closed (Wed-Sun)  CLOSED_NA  \n",
      "16699                    0                        0          1  \n",
      "13148                    0                        0          1  \n",
      "5077                     0                        0          1  \n",
      "12213                    0                        0          1  \n",
      "13336                    0                        0          1  \n",
      "\n",
      "[5 rows x 2283 columns]\n"
     ]
    }
   ],
   "source": [
    "print(X_train.head())\n",
    "print(X_cv.head())"
   ]
  },
  {
   "cell_type": "code",
   "execution_count": 168,
   "metadata": {},
   "outputs": [],
   "source": [
    "categorical_features.append('feature1')"
   ]
  },
  {
   "cell_type": "code",
   "execution_count": 175,
   "metadata": {},
   "outputs": [],
   "source": [
    "from sklearn.ensemble import BaggingRegressor\n",
    "\n",
    "br = BaggingRegressor(n_estimators=30, max_samples=0.9, max_features=1.0, bootstrap=True, bootstrap_features=True, oob_score=True, n_jobs=1, random_state=42, verbose=1)"
   ]
  },
  {
   "cell_type": "code",
   "execution_count": 180,
   "metadata": {},
   "outputs": [],
   "source": [
    "from sklearn.ensemble import RandomForestRegressor\n",
    "\n",
    "rf = RandomForestRegressor(n_estimators=40, criterion='squared_error', max_depth=None, min_samples_split=4, min_samples_leaf=1, \n",
    "                            min_weight_fraction_leaf=0.0, max_features='sqrt', max_leaf_nodes=None, \n",
    "                            min_impurity_decrease=0.0, bootstrap=True, oob_score=False, n_jobs=1, \n",
    "                            random_state=42, verbose=1, warm_start=False)\n",
    "rf.fit(X_train, y_train)\n",
    "y_pred_rf = rf.predict(X_cv)\n"
   ]
  },
  {
   "cell_type": "code",
   "execution_count": 185,
   "metadata": {},
   "outputs": [],
   "source": [
    "# Drop duplicate columns\n",
    "X_train = X_train.loc[:, ~X_train.columns.duplicated()]"
   ]
  },
  {
   "cell_type": "markdown",
   "metadata": {},
   "source": [
    "### Predict on test set"
   ]
  },
  {
   "cell_type": "code",
   "execution_count": 193,
   "metadata": {},
   "outputs": [],
   "source": [
    "Xtrain = train_df.drop(labels='COST', axis=1)"
   ]
  },
  {
   "cell_type": "code",
   "execution_count": 194,
   "metadata": {},
   "outputs": [],
   "source": [
    "ytrain = train_df['COST'].values"
   ]
  },
  {
   "cell_type": "code",
   "execution_count": 195,
   "metadata": {},
   "outputs": [],
   "source": [
    "Xtest = test_df"
   ]
  },
  {
   "cell_type": "code",
   "execution_count": 196,
   "metadata": {},
   "outputs": [
    {
     "data": {
      "text/plain": [
       "((12665, 2283), (12665,), (4230, 2283))"
      ]
     },
     "execution_count": 196,
     "metadata": {},
     "output_type": "execute_result"
    }
   ],
   "source": [
    "Xtrain.shape, ytrain.shape, Xtest.shape"
   ]
  },
  {
   "cell_type": "code",
   "execution_count": 198,
   "metadata": {},
   "outputs": [],
   "source": [
    "X.reset_index(drop=True, inplace=True)\n"
   ]
  },
  {
   "cell_type": "code",
   "execution_count": 205,
   "metadata": {},
   "outputs": [
    {
     "data": {
      "text/html": [
       "<div>\n",
       "<style scoped>\n",
       "    .dataframe tbody tr th:only-of-type {\n",
       "        vertical-align: middle;\n",
       "    }\n",
       "\n",
       "    .dataframe tbody tr th {\n",
       "        vertical-align: top;\n",
       "    }\n",
       "\n",
       "    .dataframe thead th {\n",
       "        text-align: right;\n",
       "    }\n",
       "</style>\n",
       "<table border=\"1\" class=\"dataframe\">\n",
       "  <thead>\n",
       "    <tr style=\"text-align: right;\">\n",
       "      <th></th>\n",
       "      <th>RATING</th>\n",
       "      <th>VOTES</th>\n",
       "      <th>CITY_MEAN_RATING</th>\n",
       "      <th>LOCALITY_MEAN_RATING</th>\n",
       "      <th>bakery</th>\n",
       "      <th>bar</th>\n",
       "      <th>beverage</th>\n",
       "      <th>bhojanalya</th>\n",
       "      <th>bites</th>\n",
       "      <th>cafe</th>\n",
       "      <th>...</th>\n",
       "      <th>CLOSED_Closed (Mon-Thu)</th>\n",
       "      <th>CLOSED_Closed (Mon-Tue)</th>\n",
       "      <th>CLOSED_Closed (Sat)</th>\n",
       "      <th>CLOSED_Closed (Sat-Sun)</th>\n",
       "      <th>CLOSED_Closed (Sun)</th>\n",
       "      <th>CLOSED_Closed (Thu-Sun)</th>\n",
       "      <th>CLOSED_Closed (Tue)</th>\n",
       "      <th>CLOSED_Closed (Wed)</th>\n",
       "      <th>CLOSED_Closed (Wed-Sun)</th>\n",
       "      <th>CLOSED_NA</th>\n",
       "    </tr>\n",
       "  </thead>\n",
       "  <tbody>\n",
       "    <tr>\n",
       "      <th>0</th>\n",
       "      <td>3.6</td>\n",
       "      <td>49.0</td>\n",
       "      <td>3.417241</td>\n",
       "      <td>3.457143</td>\n",
       "      <td>0.0</td>\n",
       "      <td>0.00000</td>\n",
       "      <td>0.0</td>\n",
       "      <td>0.0</td>\n",
       "      <td>0.000000</td>\n",
       "      <td>0.0</td>\n",
       "      <td>...</td>\n",
       "      <td>0</td>\n",
       "      <td>0</td>\n",
       "      <td>0</td>\n",
       "      <td>0</td>\n",
       "      <td>0</td>\n",
       "      <td>0</td>\n",
       "      <td>0</td>\n",
       "      <td>0</td>\n",
       "      <td>0</td>\n",
       "      <td>1</td>\n",
       "    </tr>\n",
       "    <tr>\n",
       "      <th>1</th>\n",
       "      <td>4.2</td>\n",
       "      <td>30.0</td>\n",
       "      <td>3.584408</td>\n",
       "      <td>3.472222</td>\n",
       "      <td>0.0</td>\n",
       "      <td>0.80821</td>\n",
       "      <td>0.0</td>\n",
       "      <td>0.0</td>\n",
       "      <td>0.000000</td>\n",
       "      <td>0.0</td>\n",
       "      <td>...</td>\n",
       "      <td>0</td>\n",
       "      <td>0</td>\n",
       "      <td>0</td>\n",
       "      <td>0</td>\n",
       "      <td>0</td>\n",
       "      <td>0</td>\n",
       "      <td>0</td>\n",
       "      <td>0</td>\n",
       "      <td>0</td>\n",
       "      <td>1</td>\n",
       "    </tr>\n",
       "    <tr>\n",
       "      <th>2</th>\n",
       "      <td>3.8</td>\n",
       "      <td>221.0</td>\n",
       "      <td>3.584408</td>\n",
       "      <td>3.550000</td>\n",
       "      <td>0.0</td>\n",
       "      <td>0.00000</td>\n",
       "      <td>0.0</td>\n",
       "      <td>0.0</td>\n",
       "      <td>0.000000</td>\n",
       "      <td>0.0</td>\n",
       "      <td>...</td>\n",
       "      <td>0</td>\n",
       "      <td>0</td>\n",
       "      <td>0</td>\n",
       "      <td>0</td>\n",
       "      <td>0</td>\n",
       "      <td>0</td>\n",
       "      <td>0</td>\n",
       "      <td>0</td>\n",
       "      <td>0</td>\n",
       "      <td>1</td>\n",
       "    </tr>\n",
       "    <tr>\n",
       "      <th>3</th>\n",
       "      <td>4.1</td>\n",
       "      <td>24.0</td>\n",
       "      <td>3.697132</td>\n",
       "      <td>3.721622</td>\n",
       "      <td>0.0</td>\n",
       "      <td>0.00000</td>\n",
       "      <td>0.0</td>\n",
       "      <td>0.0</td>\n",
       "      <td>0.707107</td>\n",
       "      <td>0.0</td>\n",
       "      <td>...</td>\n",
       "      <td>0</td>\n",
       "      <td>0</td>\n",
       "      <td>0</td>\n",
       "      <td>0</td>\n",
       "      <td>0</td>\n",
       "      <td>0</td>\n",
       "      <td>0</td>\n",
       "      <td>0</td>\n",
       "      <td>0</td>\n",
       "      <td>1</td>\n",
       "    </tr>\n",
       "    <tr>\n",
       "      <th>4</th>\n",
       "      <td>3.8</td>\n",
       "      <td>165.0</td>\n",
       "      <td>3.697132</td>\n",
       "      <td>3.986420</td>\n",
       "      <td>0.0</td>\n",
       "      <td>0.00000</td>\n",
       "      <td>0.0</td>\n",
       "      <td>0.0</td>\n",
       "      <td>0.000000</td>\n",
       "      <td>0.0</td>\n",
       "      <td>...</td>\n",
       "      <td>0</td>\n",
       "      <td>0</td>\n",
       "      <td>0</td>\n",
       "      <td>0</td>\n",
       "      <td>0</td>\n",
       "      <td>0</td>\n",
       "      <td>0</td>\n",
       "      <td>0</td>\n",
       "      <td>0</td>\n",
       "      <td>1</td>\n",
       "    </tr>\n",
       "    <tr>\n",
       "      <th>...</th>\n",
       "      <td>...</td>\n",
       "      <td>...</td>\n",
       "      <td>...</td>\n",
       "      <td>...</td>\n",
       "      <td>...</td>\n",
       "      <td>...</td>\n",
       "      <td>...</td>\n",
       "      <td>...</td>\n",
       "      <td>...</td>\n",
       "      <td>...</td>\n",
       "      <td>...</td>\n",
       "      <td>...</td>\n",
       "      <td>...</td>\n",
       "      <td>...</td>\n",
       "      <td>...</td>\n",
       "      <td>...</td>\n",
       "      <td>...</td>\n",
       "      <td>...</td>\n",
       "      <td>...</td>\n",
       "      <td>...</td>\n",
       "      <td>...</td>\n",
       "    </tr>\n",
       "    <tr>\n",
       "      <th>12660</th>\n",
       "      <td>3.8</td>\n",
       "      <td>546.0</td>\n",
       "      <td>3.621074</td>\n",
       "      <td>3.649074</td>\n",
       "      <td>0.0</td>\n",
       "      <td>0.00000</td>\n",
       "      <td>0.0</td>\n",
       "      <td>0.0</td>\n",
       "      <td>0.707107</td>\n",
       "      <td>0.0</td>\n",
       "      <td>...</td>\n",
       "      <td>0</td>\n",
       "      <td>0</td>\n",
       "      <td>0</td>\n",
       "      <td>0</td>\n",
       "      <td>0</td>\n",
       "      <td>0</td>\n",
       "      <td>0</td>\n",
       "      <td>0</td>\n",
       "      <td>0</td>\n",
       "      <td>1</td>\n",
       "    </tr>\n",
       "    <tr>\n",
       "      <th>12661</th>\n",
       "      <td>4.3</td>\n",
       "      <td>1214.0</td>\n",
       "      <td>3.697132</td>\n",
       "      <td>4.175000</td>\n",
       "      <td>0.0</td>\n",
       "      <td>0.80821</td>\n",
       "      <td>0.0</td>\n",
       "      <td>0.0</td>\n",
       "      <td>0.000000</td>\n",
       "      <td>0.0</td>\n",
       "      <td>...</td>\n",
       "      <td>0</td>\n",
       "      <td>0</td>\n",
       "      <td>0</td>\n",
       "      <td>0</td>\n",
       "      <td>0</td>\n",
       "      <td>0</td>\n",
       "      <td>0</td>\n",
       "      <td>0</td>\n",
       "      <td>0</td>\n",
       "      <td>1</td>\n",
       "    </tr>\n",
       "    <tr>\n",
       "      <th>12662</th>\n",
       "      <td>4.0</td>\n",
       "      <td>608.0</td>\n",
       "      <td>3.519910</td>\n",
       "      <td>3.844231</td>\n",
       "      <td>0.0</td>\n",
       "      <td>0.00000</td>\n",
       "      <td>0.0</td>\n",
       "      <td>0.0</td>\n",
       "      <td>0.000000</td>\n",
       "      <td>0.0</td>\n",
       "      <td>...</td>\n",
       "      <td>0</td>\n",
       "      <td>0</td>\n",
       "      <td>0</td>\n",
       "      <td>0</td>\n",
       "      <td>0</td>\n",
       "      <td>0</td>\n",
       "      <td>0</td>\n",
       "      <td>0</td>\n",
       "      <td>0</td>\n",
       "      <td>1</td>\n",
       "    </tr>\n",
       "    <tr>\n",
       "      <th>12663</th>\n",
       "      <td>3.5</td>\n",
       "      <td>32.0</td>\n",
       "      <td>3.584408</td>\n",
       "      <td>3.487500</td>\n",
       "      <td>0.0</td>\n",
       "      <td>0.00000</td>\n",
       "      <td>0.0</td>\n",
       "      <td>0.0</td>\n",
       "      <td>0.000000</td>\n",
       "      <td>0.0</td>\n",
       "      <td>...</td>\n",
       "      <td>0</td>\n",
       "      <td>0</td>\n",
       "      <td>0</td>\n",
       "      <td>0</td>\n",
       "      <td>0</td>\n",
       "      <td>0</td>\n",
       "      <td>0</td>\n",
       "      <td>0</td>\n",
       "      <td>0</td>\n",
       "      <td>1</td>\n",
       "    </tr>\n",
       "    <tr>\n",
       "      <th>12664</th>\n",
       "      <td>3.4</td>\n",
       "      <td>677.0</td>\n",
       "      <td>3.621074</td>\n",
       "      <td>3.569565</td>\n",
       "      <td>0.0</td>\n",
       "      <td>0.00000</td>\n",
       "      <td>0.0</td>\n",
       "      <td>0.0</td>\n",
       "      <td>0.000000</td>\n",
       "      <td>0.0</td>\n",
       "      <td>...</td>\n",
       "      <td>0</td>\n",
       "      <td>0</td>\n",
       "      <td>0</td>\n",
       "      <td>0</td>\n",
       "      <td>0</td>\n",
       "      <td>0</td>\n",
       "      <td>0</td>\n",
       "      <td>0</td>\n",
       "      <td>0</td>\n",
       "      <td>1</td>\n",
       "    </tr>\n",
       "  </tbody>\n",
       "</table>\n",
       "<p>11820 rows × 2283 columns</p>\n",
       "</div>"
      ],
      "text/plain": [
       "       RATING   VOTES  CITY_MEAN_RATING  LOCALITY_MEAN_RATING  bakery  \\\n",
       "0         3.6    49.0          3.417241              3.457143     0.0   \n",
       "1         4.2    30.0          3.584408              3.472222     0.0   \n",
       "2         3.8   221.0          3.584408              3.550000     0.0   \n",
       "3         4.1    24.0          3.697132              3.721622     0.0   \n",
       "4         3.8   165.0          3.697132              3.986420     0.0   \n",
       "...       ...     ...               ...                   ...     ...   \n",
       "12660     3.8   546.0          3.621074              3.649074     0.0   \n",
       "12661     4.3  1214.0          3.697132              4.175000     0.0   \n",
       "12662     4.0   608.0          3.519910              3.844231     0.0   \n",
       "12663     3.5    32.0          3.584408              3.487500     0.0   \n",
       "12664     3.4   677.0          3.621074              3.569565     0.0   \n",
       "\n",
       "           bar  beverage  bhojanalya     bites  cafe  ...  \\\n",
       "0      0.00000       0.0         0.0  0.000000   0.0  ...   \n",
       "1      0.80821       0.0         0.0  0.000000   0.0  ...   \n",
       "2      0.00000       0.0         0.0  0.000000   0.0  ...   \n",
       "3      0.00000       0.0         0.0  0.707107   0.0  ...   \n",
       "4      0.00000       0.0         0.0  0.000000   0.0  ...   \n",
       "...        ...       ...         ...       ...   ...  ...   \n",
       "12660  0.00000       0.0         0.0  0.707107   0.0  ...   \n",
       "12661  0.80821       0.0         0.0  0.000000   0.0  ...   \n",
       "12662  0.00000       0.0         0.0  0.000000   0.0  ...   \n",
       "12663  0.00000       0.0         0.0  0.000000   0.0  ...   \n",
       "12664  0.00000       0.0         0.0  0.000000   0.0  ...   \n",
       "\n",
       "       CLOSED_Closed (Mon-Thu)  CLOSED_Closed (Mon-Tue)  CLOSED_Closed (Sat)  \\\n",
       "0                            0                        0                    0   \n",
       "1                            0                        0                    0   \n",
       "2                            0                        0                    0   \n",
       "3                            0                        0                    0   \n",
       "4                            0                        0                    0   \n",
       "...                        ...                      ...                  ...   \n",
       "12660                        0                        0                    0   \n",
       "12661                        0                        0                    0   \n",
       "12662                        0                        0                    0   \n",
       "12663                        0                        0                    0   \n",
       "12664                        0                        0                    0   \n",
       "\n",
       "       CLOSED_Closed (Sat-Sun)  CLOSED_Closed (Sun)  CLOSED_Closed (Thu-Sun)  \\\n",
       "0                            0                    0                        0   \n",
       "1                            0                    0                        0   \n",
       "2                            0                    0                        0   \n",
       "3                            0                    0                        0   \n",
       "4                            0                    0                        0   \n",
       "...                        ...                  ...                      ...   \n",
       "12660                        0                    0                        0   \n",
       "12661                        0                    0                        0   \n",
       "12662                        0                    0                        0   \n",
       "12663                        0                    0                        0   \n",
       "12664                        0                    0                        0   \n",
       "\n",
       "       CLOSED_Closed (Tue)  CLOSED_Closed (Wed)  CLOSED_Closed (Wed-Sun)  \\\n",
       "0                        0                    0                        0   \n",
       "1                        0                    0                        0   \n",
       "2                        0                    0                        0   \n",
       "3                        0                    0                        0   \n",
       "4                        0                    0                        0   \n",
       "...                    ...                  ...                      ...   \n",
       "12660                    0                    0                        0   \n",
       "12661                    0                    0                        0   \n",
       "12662                    0                    0                        0   \n",
       "12663                    0                    0                        0   \n",
       "12664                    0                    0                        0   \n",
       "\n",
       "       CLOSED_NA  \n",
       "0              1  \n",
       "1              1  \n",
       "2              1  \n",
       "3              1  \n",
       "4              1  \n",
       "...          ...  \n",
       "12660          1  \n",
       "12661          1  \n",
       "12662          1  \n",
       "12663          1  \n",
       "12664          1  \n",
       "\n",
       "[11820 rows x 2283 columns]"
      ]
     },
     "execution_count": 205,
     "metadata": {},
     "output_type": "execute_result"
    }
   ],
   "source": [
    "X.loc[train_index]"
   ]
  },
  {
   "cell_type": "code",
   "execution_count": 207,
   "metadata": {},
   "outputs": [
    {
     "data": {
      "text/plain": [
       "(nan, nan, nan)"
      ]
     },
     "execution_count": 207,
     "metadata": {},
     "output_type": "execute_result"
    }
   ],
   "source": [
    "np.mean(errlgb,0), np.mean(err_br,0), np.mean(err_rf,0)"
   ]
  },
  {
   "cell_type": "code",
   "execution_count": 208,
   "metadata": {},
   "outputs": [],
   "source": [
    "lgbm_final = np.exp(np.mean(y_pred_totlgb,0))\n",
    "br_final = np.exp(np.mean(y_pred_totbr,0))\n",
    "rf_final = np.exp(np.mean(y_pred_totrf,0))"
   ]
  },
  {
   "cell_type": "code",
   "execution_count": 209,
   "metadata": {},
   "outputs": [
    {
     "data": {
      "text/plain": [
       "nan"
      ]
     },
     "execution_count": 209,
     "metadata": {},
     "output_type": "execute_result"
    }
   ],
   "source": [
    "y_pred = (lgbm_final*0.70 + br_final*0.215 + rf_final*.15) \n",
    "y_pred"
   ]
  },
  {
   "cell_type": "code",
   "execution_count": 214,
   "metadata": {},
   "outputs": [
    {
     "name": "stdout",
     "output_type": "stream",
     "text": [
      "Unexpected exception formatting exception. Falling back to standard exception\n"
     ]
    },
    {
     "name": "stderr",
     "output_type": "stream",
     "text": [
      "Traceback (most recent call last):\n",
      "  File \"C:\\Users\\mdirf\\anaconda3\\lib\\site-packages\\IPython\\core\\interactiveshell.py\", line 3460, in run_code\n",
      "    exec(code_obj, self.user_global_ns, self.user_ns)\n",
      "  File \"C:\\Users\\mdirf\\AppData\\Local\\Temp\\ipykernel_11612\\1414018269.py\", line 4, in <module>\n",
      "    writer = pd.ExcelWriter('Output.xlsx', engine='xlsxwriter')\n",
      "  File \"C:\\Users\\mdirf\\anaconda3\\lib\\site-packages\\pandas\\io\\excel\\_xlsxwriter.py\", line 198, in __init__\n",
      "ModuleNotFoundError: No module named 'xlsxwriter'\n",
      "\n",
      "During handling of the above exception, another exception occurred:\n",
      "\n",
      "Traceback (most recent call last):\n",
      "  File \"C:\\Users\\mdirf\\anaconda3\\lib\\site-packages\\IPython\\core\\interactiveshell.py\", line 2057, in showtraceback\n",
      "    stb = self.InteractiveTB.structured_traceback(\n",
      "  File \"C:\\Users\\mdirf\\anaconda3\\lib\\site-packages\\IPython\\core\\ultratb.py\", line 1118, in structured_traceback\n",
      "    return FormattedTB.structured_traceback(\n",
      "  File \"C:\\Users\\mdirf\\anaconda3\\lib\\site-packages\\IPython\\core\\ultratb.py\", line 1012, in structured_traceback\n",
      "    return VerboseTB.structured_traceback(\n",
      "  File \"C:\\Users\\mdirf\\anaconda3\\lib\\site-packages\\IPython\\core\\ultratb.py\", line 865, in structured_traceback\n",
      "    formatted_exception = self.format_exception_as_a_whole(etype, evalue, etb, number_of_lines_of_context,\n",
      "  File \"C:\\Users\\mdirf\\anaconda3\\lib\\site-packages\\IPython\\core\\ultratb.py\", line 818, in format_exception_as_a_whole\n",
      "    frames.append(self.format_record(r))\n",
      "  File \"C:\\Users\\mdirf\\anaconda3\\lib\\site-packages\\IPython\\core\\ultratb.py\", line 736, in format_record\n",
      "    result += ''.join(_format_traceback_lines(frame_info.lines, Colors, self.has_colors, lvals))\n",
      "  File \"C:\\Users\\mdirf\\anaconda3\\lib\\site-packages\\stack_data\\utils.py\", line 145, in cached_property_wrapper\n",
      "    value = obj.__dict__[self.func.__name__] = self.func(obj)\n",
      "  File \"C:\\Users\\mdirf\\anaconda3\\lib\\site-packages\\stack_data\\core.py\", line 698, in lines\n",
      "    pieces = self.included_pieces\n",
      "  File \"C:\\Users\\mdirf\\anaconda3\\lib\\site-packages\\stack_data\\utils.py\", line 145, in cached_property_wrapper\n",
      "    value = obj.__dict__[self.func.__name__] = self.func(obj)\n",
      "  File \"C:\\Users\\mdirf\\anaconda3\\lib\\site-packages\\stack_data\\core.py\", line 649, in included_pieces\n",
      "    pos = scope_pieces.index(self.executing_piece)\n",
      "  File \"C:\\Users\\mdirf\\anaconda3\\lib\\site-packages\\stack_data\\utils.py\", line 145, in cached_property_wrapper\n",
      "    value = obj.__dict__[self.func.__name__] = self.func(obj)\n",
      "  File \"C:\\Users\\mdirf\\anaconda3\\lib\\site-packages\\stack_data\\core.py\", line 628, in executing_piece\n",
      "    return only(\n",
      "  File \"C:\\Users\\mdirf\\anaconda3\\lib\\site-packages\\executing\\executing.py\", line 164, in only\n",
      "    raise NotOneValueFound('Expected one value, found 0')\n",
      "executing.executing.NotOneValueFound: Expected one value, found 0\n"
     ]
    }
   ],
   "source": [
    "df_sub = pd.DataFrame({'COST': [y_pred]})\n",
    "\n",
    "# Write DataFrame to Excel file\n",
    "writer = pd.ExcelWriter('Output.xlsx', engine='xlsxwriter')\n",
    "df_sub.to_excel(writer, sheet_name='Sheet1', index=False)\n",
    "writer.save()\n"
   ]
  },
  {
   "cell_type": "code",
   "execution_count": null,
   "metadata": {},
   "outputs": [],
   "source": []
  }
 ],
 "metadata": {
  "kernelspec": {
   "display_name": "Python 3 (ipykernel)",
   "language": "python",
   "name": "python3"
  },
  "language_info": {
   "codemirror_mode": {
    "name": "ipython",
    "version": 3
   },
   "file_extension": ".py",
   "mimetype": "text/x-python",
   "name": "python",
   "nbconvert_exporter": "python",
   "pygments_lexer": "ipython3",
   "version": "3.10.9"
  },
  "toc": {
   "base_numbering": 1,
   "nav_menu": {},
   "number_sections": false,
   "sideBar": true,
   "skip_h1_title": false,
   "title_cell": "Table of Contents",
   "title_sidebar": "Contents",
   "toc_cell": false,
   "toc_position": {},
   "toc_section_display": true,
   "toc_window_display": false
  }
 },
 "nbformat": 4,
 "nbformat_minor": 2
}
